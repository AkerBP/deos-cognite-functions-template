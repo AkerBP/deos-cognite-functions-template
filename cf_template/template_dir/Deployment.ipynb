{
 "cells": [
  {
   "cell_type": "markdown",
   "metadata": {},
   "source": [
    "## Notebook to deploy Cognite Function \n",
    "\n",
    "This interactive notebook guides you through the necessary steps to deploy the Cognite Function associated with this project folder to the CDF platform. It provides step-by-step instructions with all necessary actions by the user."
   ]
  },
  {
   "cell_type": "markdown",
   "metadata": {},
   "source": [
    "### 1. Authenticate with Cognite client"
   ]
  },
  {
   "cell_type": "code",
   "execution_count": 34,
   "metadata": {},
   "outputs": [],
   "source": [
    "from cf_template.initialize_cdf_client import initialize_cdf_client\n",
    "from pathlib import Path\n",
    "cwd = Path.cwd().resolve()\n",
    "\n",
    "cdf_env = \"dev\" # TODO: Change to test/prod when changing to assicated env\n",
    "\n",
    "client = initialize_cdf_client(cdf_env=\"dev\", path_to_env=str(cwd)+\"../authentication_ids.env\")"
   ]
  },
  {
   "cell_type": "markdown",
   "metadata": {},
   "source": [
    "### 1. Required input parameters\n",
    "\n",
    "The following lists required parameters needed to deploy the Cognite Function. The parameters enters a data dictionary that is supplied to the `data` argument of the main entry of the deployment, `handler.py`.\n",
    "\n",
    "- `ts_input_names` (list)\n",
    "    - name of input time series (one string per input)\n",
    "- `ts_output_names` (list)\n",
    "    - name of output time series (one string per output)\n",
    "- `dataset_id`\n",
    "    - id of the dataset in CDF to write the new time series to\n",
    "- `function_name` (str)\n",
    "    - name of Cognite Function to be deployed, by default the name of the associated Cognite Functions folder\n",
    "    - to maintain structure, we recommend the naming convention `*ds_cf-name*`, where *ds* is an (abbreviated) name of the dataset holding the time series, and *cf-name* is a descriptive name of your Cognite Function (where words are separated by dashes (-))\n",
    "- `schedule_name` (str)\n",
    "    - name of schedule to deploy with your Cognite Function\n",
    "    - important with a unique, descriptive name to discern different schedules for the same Cognite Function. E.g., if setting up different schedules for different time series, the name of the time series could be used to distinguish different schedules\n"
   ]
  },
  {
   "cell_type": "code",
   "execution_count": 38,
   "metadata": {},
   "outputs": [],
   "source": [
    "from cf_template.main import NewCogniteFunction\n",
    "\n",
    "input_ts_names = [\"my_input_name\"]\n",
    "output_ts_names = [\"my_output_name\"]\n",
    "dataset_id = 123\n",
    "function_name = cwd.parent.as_posix().split(\"/\")[-1]\n",
    "schedule_name = input_ts_names[0]\n",
    "\n",
    "new_cf = NewCogniteFunction(cdf_env=cdf_env, client=client,\n",
    "                            input_ts_names=input_ts_names,\n",
    "                            output_ts_names=output_ts_names,\n",
    "                            dataset_id=dataset_id,\n",
    "                            name_of_function=function_name,\n",
    "                            name_of_schedule=schedule_name)"
   ]
  },
  {
   "cell_type": "markdown",
   "metadata": {},
   "source": [
    "### 2. Set up transformation\n",
    "\n",
    "The desired transformation/calculation of the input time series must be created in the `transformation` function in the `transformation.py` script. The function is by default empty, but is supposed to by populated by the user. You can use any Python libraries that you want to perform the calculations, but make sure that the function returns a transformed time series as a pandas Dataframe with column names corresponding to the name of the output time series."
   ]
  },
  {
   "cell_type": "markdown",
   "metadata": {},
   "source": [
    "### 3. Deploy the Cognite Function\n",
    "\n",
    "After the calculation function is set up, the actual deployment to CDF can commence. The Cognite Function is to be run on a schedule, automatically performing frequent transformations. Run the following code cell to deploy your Cognite Function on a schedule.\n",
    "\n",
    "A scheduled call of the Cognite Function is run by default. To only run a single call, set\n",
    "- `new_cf.deployment_single_call = True`\n",
    "- `new_cf.deployment_scheduled_call = False`\n",
    "\n",
    "before running `new_cf.deploy_cf()`."
   ]
  },
  {
   "cell_type": "code",
   "execution_count": null,
   "metadata": {},
   "outputs": [],
   "source": [
    "new_cf.deploy_cf()"
   ]
  }
 ],
 "metadata": {
  "kernelspec": {
   "display_name": ".venv",
   "language": "python",
   "name": "python3"
  },
  "language_info": {
   "codemirror_mode": {
    "name": "ipython",
    "version": 3
   },
   "file_extension": ".py",
   "mimetype": "text/x-python",
   "name": "python",
   "nbconvert_exporter": "python",
   "pygments_lexer": "ipython3",
   "version": "3.11.5"
  }
 },
 "nbformat": 4,
 "nbformat_minor": 2
}

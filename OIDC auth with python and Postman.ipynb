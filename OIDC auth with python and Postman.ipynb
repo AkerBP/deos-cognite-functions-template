{
 "cells": [
  {
   "cell_type": "markdown",
   "id": "0a4af03d",
   "metadata": {},
   "source": [
    "## Packages"
   ]
  },
  {
   "cell_type": "code",
   "execution_count": null,
   "id": "124c253a",
   "metadata": {},
   "outputs": [],
   "source": [
    "\n",
    "import os\n",
    "from cognite.client import CogniteClient \n",
    "from cognite.client.config import ClientConfig\n",
    "from cognite.client.credentials import OAuthInteractive, OAuthClientCredentials\n",
    "import pandas as pd\n",
    "\n",
    "from datetime import date\n",
    "import json"
   ]
  },
  {
   "cell_type": "markdown",
   "id": "178761d5",
   "metadata": {},
   "source": [
    "## Variables"
   ]
  },
  {
   "cell_type": "code",
   "execution_count": null,
   "id": "819a3060",
   "metadata": {},
   "outputs": [],
   "source": [
    "TENANT_ID = \"3b7e4170-8348-4aa4-bfae-06a3e1867469\"\n",
    "CDF_CLUSTER = \"api\"\n",
    "CLIENT_NAME = \"akerbp\"\n",
    "CLIENT_ID = \"779f2b3b-b599-401a-96aa-48bd29132a27\"  #Cognite API User access- app registration\n",
    "COGNITE_PROJECT = \"akerbp-dev\"\n",
    "SCOPES = [f\"https://{CDF_CLUSTER}.cognitedata.com/.default\"]\n",
    "\n",
    "AUTHORITY_HOST_URI = \"https://login.microsoftonline.com\"\n",
    "AUTHORITY_URI = AUTHORITY_HOST_URI + \"/\" + TENANT_ID\n",
    "PORT = 53000"
   ]
  },
  {
   "cell_type": "markdown",
   "id": "5f62d79a",
   "metadata": {},
   "source": [
    "## Create CDF Client"
   ]
  },
  {
   "cell_type": "code",
   "execution_count": null,
   "id": "ffe1834e",
   "metadata": {},
   "outputs": [],
   "source": [
    "creds = OAuthInteractive(client_id=CLIENT_ID, authority_url=AUTHORITY_URI, scopes=SCOPES) #user interactive\n",
    "#creds = OAuthClientCredentials(token_url=AUTHORITY_URI + \"/oauth2/v2.0/token\", client_id=\"0cadc9bc-c728-4d02-9850-0e3b7a81c88c\", client_secret=os.environ[\"CLIENT_SECRET\"], scopes=SCOPES) #non-interactive (app based)"
   ]
  },
  {
   "cell_type": "code",
   "execution_count": null,
   "id": "33bea08e",
   "metadata": {},
   "outputs": [],
   "source": [
    "client_cnf = ClientConfig(client_name=CLIENT_NAME, \n",
    "                   base_url=f\"https://{CDF_CLUSTER}.cognitedata.com\", \n",
    "                   project=COGNITE_PROJECT, credentials=creds)\n",
    "client = CogniteClient(client_cnf)"
   ]
  },
  {
   "cell_type": "code",
   "execution_count": null,
   "id": "331a8f14",
   "metadata": {},
   "outputs": [],
   "source": [
    "status = client.iam.token.inspect() #verify your client token and status\n",
    "print(status)\n",
    "if \"projects\" not in vars(status):\n",
    "    raise Exception(\"Token Error!\")"
   ]
  },
  {
   "cell_type": "markdown",
   "id": "cba375e5",
   "metadata": {},
   "source": [
    "## Read CDF Resources"
   ]
  },
  {
   "cell_type": "markdown",
   "id": "98f28041",
   "metadata": {},
   "source": [
    "## Timeseries"
   ]
  },
  {
   "cell_type": "code",
   "execution_count": null,
   "id": "641bdace",
   "metadata": {},
   "outputs": [],
   "source": [
    "time_series_out_list = []\n",
    "time_series_out_list = client.time_series.list(limit=100)"
   ]
  },
  {
   "cell_type": "code",
   "execution_count": null,
   "id": "6d326eec",
   "metadata": {},
   "outputs": [],
   "source": [
    "unit_df = pd.Series(\n",
    "    index=[item.unit if item.unit else \"Not set\" for item in time_series_out_list],\n",
    "    data=1,\n",
    "    name=\"unit\"\n",
    ").groupby(level=0).count()\n",
    "unit_df"
   ]
  },
  {
   "cell_type": "code",
   "execution_count": null,
   "id": "1ee4a1d8",
   "metadata": {},
   "outputs": [],
   "source": [
    "entry = {\n",
    "    \"date\": date.today().strftime(format=\"%d/%m/%Y\"),\n",
    "    \"units\": [dict(name = idx, count = val) for idx, val in unit_df.items()]\n",
    "}\n",
    "with open(f\"./result-{COGNITE_PROJECT}.json\", \"w\") as file:\n",
    "    json.dump(entry, file)"
   ]
  },
  {
   "cell_type": "markdown",
   "id": "77d6f34f",
   "metadata": {},
   "source": [
    "## 3D models"
   ]
  },
  {
   "cell_type": "code",
   "execution_count": null,
   "id": "389c3bcd",
   "metadata": {},
   "outputs": [],
   "source": [
    "three_d_model_list = client.three_d.models.list(limit=-1)\n",
    "model_revision_list=list()\n",
    "for three_d_model in three_d_model_list:\n",
    "    print(f\"{three_d_model.name}\")"
   ]
  },
  {
   "cell_type": "code",
   "execution_count": null,
   "id": "0b7673e9",
   "metadata": {},
   "outputs": [],
   "source": [
    "three_d_model_revision_list = []\n",
    "three_d_model_revision_list = client.three_d.revisions.list(model_id=6050462298938790, published=False, limit=100)\n"
   ]
  },
  {
   "attachments": {},
   "cell_type": "markdown",
   "id": "39139285",
   "metadata": {},
   "source": [
    "## GIS"
   ]
  },
  {
   "cell_type": "code",
   "execution_count": null,
   "id": "cc55b5bf",
   "metadata": {},
   "outputs": [],
   "source": [
    "Feature_types = client.geospatial.list_feature_types()\n",
    "Feature_types"
   ]
  },
  {
   "cell_type": "code",
   "execution_count": null,
   "id": "ef4b448f",
   "metadata": {},
   "outputs": [],
   "source": [
    "feature_aseest_polygons = client.geospatial.list_features(feature_type_external_id=\"arcgis_asset_polygons_ft\", limit=-1)\n",
    "feature_flowlines = client.geospatial.list_features(feature_type_external_id=\"arcgis_flowlines_ft\", limit=-1)"
   ]
  },
  {
   "cell_type": "code",
   "execution_count": null,
   "id": "d3027a7e",
   "metadata": {},
   "outputs": [],
   "source": [
    "feature_aseest_polygons.to_geopandas(geometry=\"geometry4326\").plot()"
   ]
  },
  {
   "cell_type": "code",
   "execution_count": null,
   "id": "ac45cefc",
   "metadata": {},
   "outputs": [],
   "source": [
    "feature_flowlines.to_geopandas(geometry=\"geometry4326\").plot()"
   ]
  },
  {
   "cell_type": "markdown",
   "id": "f9b5b61c",
   "metadata": {},
   "source": [
    "## RAW"
   ]
  },
  {
   "cell_type": "code",
   "execution_count": null,
   "id": "ba25ce47",
   "metadata": {},
   "outputs": [],
   "source": [
    "db_list = client.raw.databases.list(limit=-1)\n",
    "db_list"
   ]
  },
  {
   "cell_type": "code",
   "execution_count": null,
   "id": "463c0b53",
   "metadata": {},
   "outputs": [],
   "source": [
    "\n",
    "table_list = client.raw.tables.list(\"EC\", limit=5)\n",
    "table_list"
   ]
  },
  {
   "cell_type": "markdown",
   "id": "de87f1c8",
   "metadata": {},
   "source": [
    "## Assets"
   ]
  },
  {
   "cell_type": "code",
   "execution_count": null,
   "id": "4108f079",
   "metadata": {},
   "outputs": [],
   "source": [
    "asset_list = client.assets.list(limit=10)\n",
    "asset_list"
   ]
  },
  {
   "cell_type": "markdown",
   "id": "8574e5b2",
   "metadata": {},
   "source": [
    "## Functions"
   ]
  },
  {
   "cell_type": "code",
   "execution_count": null,
   "id": "3f1e06a5",
   "metadata": {},
   "outputs": [],
   "source": [
    "functions_list = client.functions.list()\n",
    "functions_list"
   ]
  }
 ],
 "metadata": {
  "kernelspec": {
   "display_name": "Python 3.9.2 64-bit",
   "language": "python",
   "name": "python3"
  },
  "language_info": {
   "codemirror_mode": {
    "name": "ipython",
    "version": 3
   },
   "file_extension": ".py",
   "mimetype": "text/x-python",
   "name": "python",
   "nbconvert_exporter": "python",
   "pygments_lexer": "ipython3",
   "version": "3.9.2"
  },
  "vscode": {
   "interpreter": {
    "hash": "397704579725e15f5c7cb49fe5f0341eb7531c82d19f2c29d197e8b64ab5776b"
   }
  }
 },
 "nbformat": 4,
 "nbformat_minor": 5
}

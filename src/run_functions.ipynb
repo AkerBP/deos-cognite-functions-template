{
 "cells": [
  {
   "cell_type": "code",
   "execution_count": 64,
   "metadata": {},
   "outputs": [],
   "source": [
    "from datetime import datetime, timedelta\n",
    "import pandas as pd\n",
    "\n",
    "from initialize import initialize_client\n",
    "\n",
    "func_suffix = \"Dynamic\""
   ]
  },
  {
   "cell_type": "code",
   "execution_count": 2,
   "metadata": {},
   "outputs": [],
   "source": [
    "ts_input_name = \"VAL_11-LT-95034A:X.Value\"\n",
    "ts_output_name = f\"VAL_11-LT-95034A:X.CDF.D.AVG.LeakValue{func_suffix}\"\n",
    "tank_volume = 1400\n",
    "derivative_value_excl = 0.002\n",
    "# start_date = datetime(2023, 3, 21, 1, 0, 0)\n",
    "\n",
    "data_dict = {'tot_days':0, 'tot_minutes':15, # convert date to str to make it JSON serializable\n",
    "            'ts_input_name':ts_input_name, 'ts_output_name':ts_output_name,\n",
    "            'derivative_value_excl':derivative_value_excl, 'tank_volume':tank_volume,\n",
    "            'run_sandbox':True, 'dataset_id': 3197476513083188} # NB: change dataset id when going to dev/test/prod!"
   ]
  },
  {
   "cell_type": "code",
   "execution_count": 3,
   "metadata": {},
   "outputs": [],
   "source": [
    "client = initialize_client(data_dict[\"run_sandbox\"], cache_token=True)"
   ]
  },
  {
   "cell_type": "code",
   "execution_count": 4,
   "metadata": {},
   "outputs": [],
   "source": [
    "if data_dict[\"run_sandbox\"]:\n",
    "    cron_interval = \"5\" # 15\n",
    "    func_suffix = \"Sandbox\"\n",
    "else:\n",
    "    cron_interval = \"15\"\n",
    "    func_suffix = \"Deploy\""
   ]
  },
  {
   "cell_type": "code",
   "execution_count": 41,
   "metadata": {},
   "outputs": [],
   "source": [
    "# Create function\n",
    "func_drainage = client.functions.create(\n",
    "    name=f\"avg-drainage-rate-{func_suffix}\",\n",
    "    external_id=f\"avg-drainage-rate-{func_suffix}\",\n",
    "    # function_handle=handle,\n",
    "    folder=\".\"\n",
    ")"
   ]
  },
  {
   "cell_type": "code",
   "execution_count": 42,
   "metadata": {},
   "outputs": [
    {
     "data": {
      "text/plain": [
       "'Deploying'"
      ]
     },
     "execution_count": 42,
     "metadata": {},
     "output_type": "execute_result"
    }
   ],
   "source": [
    "func_drainage = client.functions.retrieve(external_id=f\"avg-drainage-rate-{func_suffix}\")\n",
    "func_drainage.status"
   ]
  },
  {
   "cell_type": "code",
   "execution_count": 43,
   "metadata": {},
   "outputs": [],
   "source": [
    "# Call function - IF NOT RUNNING SCHEDULE!\n",
    "call_func_drainage = func_drainage.call(data=data_dict)"
   ]
  },
  {
   "cell_type": "code",
   "execution_count": 45,
   "metadata": {},
   "outputs": [],
   "source": [
    "# Schedule\n",
    "func_drainage_schedule = client.functions.schedules.create(\n",
    "    name=f\"avg-drainage-rate-schedule-{func_suffix}\",\n",
    "    cron_expression=f\"*/{cron_interval} * * * *\", # every 15 min\n",
    "    function_id=func_drainage.id,\n",
    "    #client_credentials=client,\n",
    "    description=\"Calculation scheduled every hour\",\n",
    "    data=data_dict\n",
    ")"
   ]
  },
  {
   "cell_type": "code",
   "execution_count": 40,
   "metadata": {},
   "outputs": [],
   "source": [
    "# client.time_series.delete(external_id=f\"VAL_11-LT-95034A:X.CDF.D.AVG.LeakValue{func_suffix}\")"
   ]
  },
  {
   "cell_type": "markdown",
   "metadata": {},
   "source": [
    "## Experimental"
   ]
  },
  {
   "cell_type": "code",
   "execution_count": 3,
   "metadata": {},
   "outputs": [],
   "source": [
    "c = initialize_client(False, cache_token=True)"
   ]
  },
  {
   "cell_type": "code",
   "execution_count": 66,
   "metadata": {},
   "outputs": [
    {
     "data": {
      "text/plain": [
       "datetime.date(2023, 9, 27)"
      ]
     },
     "execution_count": 66,
     "metadata": {},
     "output_type": "execute_result"
    }
   ],
   "source": [
    "pd.Timestamp.now().date()"
   ]
  },
  {
   "cell_type": "code",
   "execution_count": null,
   "metadata": {},
   "outputs": [],
   "source": [
    "# c.time_series.data.retrieve(id=215671431499, start=\"70w-ago\", end=\"60w-ago\")\n",
    "from cognite.client.data_classes import TimeSeries\n",
    "# c.time_series.create(TimeSeries(name=\"write_test\", external_id=\"write_test\", data_set_id=2391673923486590))\n",
    "df = pd.DataFrame({\"pi:37670\": [1,2,3,4]})\n",
    "df.index = [datetime(2023,7,1,1,0,0), datetime(2023,7,2,1,0,0), datetime(2023,7,3,1,0,0), datetime(2023,7,4,1,0,0)]\n",
    "# c.time_series.data.insert_dataframe(df) # NOT ALLOWED\n",
    "c.events.retrieve(id=9007199230377491)"
   ]
  },
  {
   "cell_type": "code",
   "execution_count": 62,
   "metadata": {},
   "outputs": [
    {
     "data": {
      "text/plain": [
       "asset_ids\n",
       "833579730482990     105\n",
       "7681193400980395    895\n",
       "dtype: int64"
      ]
     },
     "execution_count": 62,
     "metadata": {},
     "output_type": "execute_result"
    }
   ],
   "source": [
    "from cognite.client.data_classes import EventFilter\n",
    "# All events linked to either primary asset (7681193400980395) or any of its children assets\n",
    "evtest = c.events.list(asset_subtree_ids=7681193400980395, limit=1000).to_pandas()\n",
    "evtest[\"asset_ids\"] = evtest[\"asset_ids\"].apply(lambda x: x[0])\n",
    "evtest.groupby([\"asset_ids\"]).size()"
   ]
  },
  {
   "cell_type": "code",
   "execution_count": 63,
   "metadata": {},
   "outputs": [
    {
     "data": {
      "text/plain": [
       "7681193400980395"
      ]
     },
     "execution_count": 63,
     "metadata": {},
     "output_type": "execute_result"
    }
   ],
   "source": [
    "c.assets.retrieve_subtree(id=833579730482990)[0].parent_id"
   ]
  }
 ],
 "metadata": {
  "kernelspec": {
   "display_name": "firsttask",
   "language": "python",
   "name": "python3"
  },
  "language_info": {
   "codemirror_mode": {
    "name": "ipython",
    "version": 3
   },
   "file_extension": ".py",
   "mimetype": "text/x-python",
   "name": "python",
   "nbconvert_exporter": "python",
   "pygments_lexer": "ipython3",
   "version": "3.11.5"
  },
  "orig_nbformat": 4
 },
 "nbformat": 4,
 "nbformat_minor": 2
}

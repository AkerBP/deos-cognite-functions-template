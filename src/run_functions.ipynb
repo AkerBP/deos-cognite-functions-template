{
 "cells": [
  {
   "cell_type": "markdown",
   "metadata": {},
   "source": [
    "## Notebook for deploying Cognite Function"
   ]
  },
  {
   "cell_type": "markdown",
   "metadata": {},
   "source": [
    "### Authentication"
   ]
  },
  {
   "cell_type": "code",
   "execution_count": 1,
   "metadata": {},
   "outputs": [],
   "source": [
    "from datetime import datetime\n",
    "import pandas as pd\n",
    "import os\n",
    "\n",
    "from initialize import initialize_client\n",
    "\n",
    "func_suffix = \"Development\""
   ]
  },
  {
   "cell_type": "code",
   "execution_count": 2,
   "metadata": {},
   "outputs": [],
   "source": [
    "ts_input_name = \"VAL_11-LT-95034A:X.Value\"\n",
    "ts_output_name = \"VAL_11-LT-95034A:X.CDF.D.AVG.LeakValue\"#f\"VAL_11-LT-95034A:X.D.LeakValue\"\n",
    "tank_volume = 1400\n",
    "derivative_value_excl = 0.002\n",
    "# start_date = datetime(2023, 3, 21, 1, 0, 0)\n",
    "\n",
    "data_dict = {'tot_days':0, 'tot_minutes':15, # convert date to str to make it JSON serializable\n",
    "            'ts_input_name':ts_input_name, 'ts_output_name':ts_output_name,\n",
    "            'derivative_value_excl':derivative_value_excl, 'tank_volume':tank_volume,\n",
    "            'cdf_env':\"dev\", 'dataset_id': 1832663593546318} # NB: change dataset id when going to dev/test/prod!\n",
    "\n",
    "cron_interval = \"15\""
   ]
  },
  {
   "cell_type": "code",
   "execution_count": 3,
   "metadata": {},
   "outputs": [],
   "source": [
    "client = initialize_client(data_dict[\"cdf_env\"], cache_token=False)"
   ]
  },
  {
   "cell_type": "code",
   "execution_count": 28,
   "metadata": {},
   "outputs": [
    {
     "data": {
      "text/plain": [
       "array([datetime.date(2020, 2, 18), datetime.date(2020, 2, 18),\n",
       "       datetime.date(2020, 2, 18), datetime.date(2020, 2, 18),\n",
       "       datetime.date(2020, 2, 18), datetime.date(2020, 2, 18),\n",
       "       datetime.date(2020, 2, 18), datetime.date(2020, 2, 18),\n",
       "       datetime.date(2020, 2, 18), datetime.date(2020, 2, 18),\n",
       "       datetime.date(2020, 2, 18), datetime.date(2020, 2, 18),\n",
       "       datetime.date(2020, 2, 18), datetime.date(2020, 2, 18),\n",
       "       datetime.date(2020, 2, 18), datetime.date(2020, 2, 18),\n",
       "       datetime.date(2020, 2, 18), datetime.date(2020, 2, 18),\n",
       "       datetime.date(2020, 2, 18), datetime.date(2020, 2, 18),\n",
       "       datetime.date(2020, 2, 18), datetime.date(2020, 2, 18),\n",
       "       datetime.date(2020, 2, 18), datetime.date(2020, 2, 18),\n",
       "       datetime.date(2020, 2, 18), datetime.date(2020, 2, 18),\n",
       "       datetime.date(2020, 2, 18), datetime.date(2020, 2, 18),\n",
       "       datetime.date(2020, 2, 18), datetime.date(2020, 2, 18),\n",
       "       datetime.date(2020, 2, 18), datetime.date(2020, 2, 18),\n",
       "       datetime.date(2020, 2, 18), datetime.date(2020, 2, 18),\n",
       "       datetime.date(2020, 2, 18), datetime.date(2020, 2, 18),\n",
       "       datetime.date(2020, 2, 18), datetime.date(2020, 2, 18),\n",
       "       datetime.date(2020, 2, 18), datetime.date(2020, 2, 18),\n",
       "       datetime.date(2020, 2, 18), datetime.date(2020, 2, 18),\n",
       "       datetime.date(2020, 2, 18), datetime.date(2020, 2, 18),\n",
       "       datetime.date(2020, 2, 18), datetime.date(2020, 2, 18),\n",
       "       datetime.date(2020, 2, 18), datetime.date(2020, 2, 18),\n",
       "       datetime.date(2020, 2, 18), datetime.date(2020, 2, 18),\n",
       "       datetime.date(2020, 2, 18), datetime.date(2020, 2, 18),\n",
       "       datetime.date(2020, 2, 18), datetime.date(2020, 2, 18),\n",
       "       datetime.date(2020, 2, 18), datetime.date(2020, 2, 18),\n",
       "       datetime.date(2020, 2, 18), datetime.date(2020, 2, 18),\n",
       "       datetime.date(2020, 2, 18), datetime.date(2020, 2, 18),\n",
       "       datetime.date(2020, 2, 18), datetime.date(2020, 2, 18),\n",
       "       datetime.date(2020, 2, 18), datetime.date(2020, 2, 18),\n",
       "       datetime.date(2020, 2, 18), datetime.date(2020, 2, 18),\n",
       "       datetime.date(2020, 2, 18), datetime.date(2020, 2, 18),\n",
       "       datetime.date(2020, 2, 18), datetime.date(2020, 2, 18),\n",
       "       datetime.date(2020, 2, 18), datetime.date(2020, 2, 18),\n",
       "       datetime.date(2020, 2, 18), datetime.date(2020, 2, 18),\n",
       "       datetime.date(2020, 2, 18), datetime.date(2020, 2, 18),\n",
       "       datetime.date(2020, 2, 18), datetime.date(2020, 2, 18),\n",
       "       datetime.date(2020, 2, 18), datetime.date(2020, 2, 18),\n",
       "       datetime.date(2020, 2, 18), datetime.date(2020, 2, 18),\n",
       "       datetime.date(2020, 2, 18), datetime.date(2020, 2, 18),\n",
       "       datetime.date(2020, 2, 18), datetime.date(2020, 2, 18),\n",
       "       datetime.date(2020, 2, 18), datetime.date(2020, 2, 18),\n",
       "       datetime.date(2020, 2, 18), datetime.date(2020, 2, 18),\n",
       "       datetime.date(2020, 2, 18), datetime.date(2020, 2, 18),\n",
       "       datetime.date(2020, 2, 18), datetime.date(2020, 2, 18),\n",
       "       datetime.date(2020, 2, 18), datetime.date(2020, 2, 18),\n",
       "       datetime.date(2020, 2, 18), datetime.date(2020, 2, 18),\n",
       "       datetime.date(2020, 2, 18), datetime.date(2020, 2, 18),\n",
       "       datetime.date(2020, 2, 18), datetime.date(2020, 2, 18),\n",
       "       datetime.date(2020, 2, 18), datetime.date(2020, 2, 18),\n",
       "       datetime.date(2020, 2, 18), datetime.date(2020, 2, 18),\n",
       "       datetime.date(2020, 2, 18), datetime.date(2020, 2, 18),\n",
       "       datetime.date(2020, 2, 18), datetime.date(2020, 2, 18),\n",
       "       datetime.date(2020, 2, 18), datetime.date(2020, 2, 18),\n",
       "       datetime.date(2020, 2, 18), datetime.date(2020, 2, 18),\n",
       "       datetime.date(2020, 2, 18), datetime.date(2020, 2, 18),\n",
       "       datetime.date(2020, 2, 18), datetime.date(2020, 2, 18),\n",
       "       datetime.date(2020, 2, 18), datetime.date(2020, 2, 18),\n",
       "       datetime.date(2020, 2, 18), datetime.date(2020, 2, 18),\n",
       "       datetime.date(2020, 2, 18), datetime.date(2020, 2, 18),\n",
       "       datetime.date(2020, 2, 18), datetime.date(2020, 2, 18),\n",
       "       datetime.date(2020, 2, 18), datetime.date(2020, 2, 18),\n",
       "       datetime.date(2020, 2, 18), datetime.date(2020, 2, 18),\n",
       "       datetime.date(2020, 2, 18), datetime.date(2020, 2, 18),\n",
       "       datetime.date(2020, 2, 18), datetime.date(2020, 2, 18),\n",
       "       datetime.date(2020, 2, 18), datetime.date(2020, 2, 18),\n",
       "       datetime.date(2020, 2, 18), datetime.date(2020, 2, 18),\n",
       "       datetime.date(2020, 2, 18), datetime.date(2020, 2, 18),\n",
       "       datetime.date(2020, 2, 18), datetime.date(2020, 2, 18),\n",
       "       datetime.date(2020, 2, 18), datetime.date(2020, 2, 18),\n",
       "       datetime.date(2020, 2, 18), datetime.date(2020, 2, 18),\n",
       "       datetime.date(2020, 2, 18), datetime.date(2020, 2, 18),\n",
       "       datetime.date(2020, 2, 18), datetime.date(2020, 2, 18),\n",
       "       datetime.date(2020, 2, 18), datetime.date(2020, 2, 18),\n",
       "       datetime.date(2020, 2, 18), datetime.date(2020, 2, 18),\n",
       "       datetime.date(2020, 2, 18), datetime.date(2020, 2, 18),\n",
       "       datetime.date(2020, 2, 18), datetime.date(2020, 2, 18),\n",
       "       datetime.date(2020, 2, 18), datetime.date(2020, 2, 18),\n",
       "       datetime.date(2020, 2, 18), datetime.date(2020, 2, 18),\n",
       "       datetime.date(2020, 2, 18), datetime.date(2020, 2, 18),\n",
       "       datetime.date(2020, 2, 18), datetime.date(2020, 2, 18),\n",
       "       datetime.date(2020, 2, 18), datetime.date(2020, 2, 18),\n",
       "       datetime.date(2020, 2, 18), datetime.date(2020, 2, 19),\n",
       "       datetime.date(2020, 2, 19), datetime.date(2020, 2, 19),\n",
       "       datetime.date(2020, 2, 19), datetime.date(2020, 2, 19),\n",
       "       datetime.date(2020, 2, 19), datetime.date(2020, 2, 19),\n",
       "       datetime.date(2020, 2, 19), datetime.date(2020, 2, 19),\n",
       "       datetime.date(2020, 2, 19), datetime.date(2020, 2, 19),\n",
       "       datetime.date(2020, 2, 19), datetime.date(2020, 2, 19),\n",
       "       datetime.date(2020, 2, 19), datetime.date(2020, 2, 19),\n",
       "       datetime.date(2020, 2, 19), datetime.date(2020, 2, 19),\n",
       "       datetime.date(2020, 2, 19), datetime.date(2020, 2, 19),\n",
       "       datetime.date(2020, 2, 19), datetime.date(2020, 2, 19),\n",
       "       datetime.date(2020, 2, 19), datetime.date(2020, 2, 19),\n",
       "       datetime.date(2020, 2, 19), datetime.date(2020, 2, 19),\n",
       "       datetime.date(2020, 2, 19), datetime.date(2020, 2, 19),\n",
       "       datetime.date(2020, 2, 19), datetime.date(2020, 2, 19),\n",
       "       datetime.date(2020, 2, 19), datetime.date(2020, 2, 19)],\n",
       "      dtype=object)"
      ]
     },
     "execution_count": 28,
     "metadata": {},
     "output_type": "execute_result"
    }
   ],
   "source": [
    "myts = client.time_series.data.retrieve(external_id=\"pi:156793\", limit=200).to_pandas()\n",
    "pd.to_datetime(myts.index).date\n",
    "# client.time_series.data.delete_range(start=datetime(2020,1,1), end=datetime(2023,10,10), external_id=\"VAL_11-LT-95034A:X.CDF.D.AVG.LeakValue\")"
   ]
  },
  {
   "cell_type": "markdown",
   "metadata": {},
   "source": [
    "### Upload file to be associated with your dataset"
   ]
  },
  {
   "cell_type": "code",
   "execution_count": 5,
   "metadata": {},
   "outputs": [],
   "source": [
    "folder = os.getcwd().replace(\"\\\\\", \"/\")\n",
    "# function_path = \"handler.py\"\n",
    "function_path = \"zip_handler.zip\"\n",
    "\n",
    "uploaded = client.files.upload(path=f\"{folder}/{function_path}\", name=function_path, data_set_id=data_dict[\"dataset_id\"])"
   ]
  },
  {
   "cell_type": "markdown",
   "metadata": {},
   "source": [
    "### Deploy Cognite function"
   ]
  },
  {
   "cell_type": "code",
   "execution_count": 6,
   "metadata": {},
   "outputs": [],
   "source": [
    "# Create function\n",
    "func_drainage = client.functions.create(\n",
    "    name=f\"avg-drainage-rate\",\n",
    "    external_id=f\"avg-drainage-rate\",\n",
    "    # folder=\".\",\n",
    "    file_id=uploaded.id,\n",
    ")"
   ]
  },
  {
   "cell_type": "code",
   "execution_count": 7,
   "metadata": {},
   "outputs": [
    {
     "data": {
      "text/plain": [
       "'Deploying'"
      ]
     },
     "execution_count": 7,
     "metadata": {},
     "output_type": "execute_result"
    }
   ],
   "source": [
    "func_drainage = client.functions.retrieve(external_id=f\"avg-drainage-rate\")\n",
    "func_drainage.status"
   ]
  },
  {
   "cell_type": "code",
   "execution_count": 8,
   "metadata": {},
   "outputs": [],
   "source": [
    "# Single call to function\n",
    "call_func_drainage = func_drainage.call(data=data_dict)"
   ]
  },
  {
   "cell_type": "markdown",
   "metadata": {},
   "source": [
    "### Schedule Cognite function"
   ]
  },
  {
   "cell_type": "code",
   "execution_count": 9,
   "metadata": {},
   "outputs": [],
   "source": [
    "# Schedule\n",
    "func_drainage_schedule = client.functions.schedules.create(\n",
    "    name=f\"avg-drainage-rate-schedule-{func_suffix}\",\n",
    "    cron_expression=f\"*/{cron_interval} * * * *\", # every 15 min\n",
    "    function_id=func_drainage.id,\n",
    "    #client_credentials=client,\n",
    "    description=\"Calculation scheduled every hour\",\n",
    "    data=data_dict\n",
    ")"
   ]
  },
  {
   "cell_type": "markdown",
   "metadata": {},
   "source": [
    "### NB: Delete function\n",
    "Hear with DataOps: how do you know when there is a backfilling in CDF for PI time series - are there automatic checks for this, what is best practice?"
   ]
  },
  {
   "cell_type": "code",
   "execution_count": 19,
   "metadata": {},
   "outputs": [],
   "source": [
    "client.functions.delete(id=func_drainage.id)"
   ]
  },
  {
   "cell_type": "markdown",
   "metadata": {},
   "source": [
    "client.time_series.delete(external_id=f\"VAL_11-LT-95034A:X.CDF.D.AVG.LeakValue{func_suffix}\")"
   ]
  },
  {
   "cell_type": "markdown",
   "metadata": {},
   "source": [
    "## Experimental"
   ]
  },
  {
   "cell_type": "code",
   "execution_count": null,
   "metadata": {},
   "outputs": [],
   "source": [
    "from cognite.client.data_classes import EventFilter\n",
    "# All events linked to either primary asset (7681193400980395) or any of its children assets\n",
    "evtest = c.events.list(asset_subtree_ids=7681193400980395, limit=1000).to_pandas()\n",
    "evtest[\"asset_ids\"] = evtest[\"asset_ids\"].apply(lambda x: x[0])\n",
    "evtest.groupby([\"asset_ids\"]).size()"
   ]
  }
 ],
 "metadata": {
  "kernelspec": {
   "display_name": "firsttask",
   "language": "python",
   "name": "python3"
  },
  "language_info": {
   "codemirror_mode": {
    "name": "ipython",
    "version": 3
   },
   "file_extension": ".py",
   "mimetype": "text/x-python",
   "name": "python",
   "nbconvert_exporter": "python",
   "pygments_lexer": "ipython3",
   "version": "3.9.18"
  },
  "orig_nbformat": 4
 },
 "nbformat": 4,
 "nbformat_minor": 2
}

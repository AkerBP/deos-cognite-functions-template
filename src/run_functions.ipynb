{
 "cells": [
  {
   "cell_type": "markdown",
   "metadata": {},
   "source": [
    "## Notebook for deploying Cognite Function"
   ]
  },
  {
   "cell_type": "markdown",
   "metadata": {},
   "source": [
    "### INPUTS"
   ]
  },
  {
   "cell_type": "code",
   "execution_count": 1,
   "metadata": {},
   "outputs": [],
   "source": [
    "ts_input_name = \"VAL_11-LT-95034A:X.Value\"\n",
    "ts_output_name = \"VAL_11-LT-95034A:X.CDF.Dummy\"#f\"VAL_11-LT-95034A:X.D.LeakValue\"\n",
    "tank_volume = 1400\n",
    "derivative_value_excl = 0.002\n",
    "# start_date = datetime(2023, 3, 21, 1, 0, 0)\n",
    "function_name = \"dummy_calculation\"#\"avg_drainage_rate\"\n",
    "\n",
    "data_dict = {'tot_days':0, 'tot_minutes':15, # convert date to str to make it JSON serializable\n",
    "            'ts_input_name':ts_input_name, 'ts_output_name':ts_output_name,\n",
    "            'derivative_value_excl':derivative_value_excl, 'tank_volume':tank_volume,\n",
    "            'cdf_env':\"dev\", 'dataset_id': 1832663593546318,\n",
    "            'backfill': False, 'backfill_days': 10,\n",
    "            'function_name': function_name,\n",
    "            'lowess_frac': 0.001, 'lowess_delta': 0.01} # NB: change dataset id when going to dev/test/prod!\n",
    "\n",
    "cron_interval = \"15\" # 15\n",
    "cdf_env = \"dev\""
   ]
  },
  {
   "cell_type": "markdown",
   "metadata": {},
   "source": [
    "### Authentication"
   ]
  },
  {
   "cell_type": "code",
   "execution_count": 2,
   "metadata": {},
   "outputs": [],
   "source": [
    "from datetime import datetime, timedelta\n",
    "import pandas as pd\n",
    "import numpy as np\n",
    "\n",
    "import os\n",
    "import sys\n",
    "import ast\n",
    "import zipfile\n",
    "\n",
    "from cognite.client.data_classes import functions\n",
    "\n",
    "from initialize import initialize_client\n",
    "\n",
    "func_suffix = \"Development\""
   ]
  },
  {
   "cell_type": "code",
   "execution_count": 3,
   "metadata": {},
   "outputs": [],
   "source": [
    "# Set limit on function calls\n",
    "func_limits = functions.FunctionsLimits(timeout_minutes=60, cpu_cores=0.25, memory_gb=1, runtimes=[\"py39\"], response_size_mb=2.5)\n",
    "# I think that timeout_minutes will be capped at 15 anyway ...\n",
    "client = initialize_client(data_dict[\"cdf_env\"], cache_token=False)"
   ]
  },
  {
   "cell_type": "markdown",
   "metadata": {},
   "source": [
    "### Function for deploying Cognite Functions in one go"
   ]
  },
  {
   "cell_type": "code",
   "execution_count": null,
   "metadata": {},
   "outputs": [],
   "source": [
    "def deploy_cognite_functions(data_dicts, cdf_env, cron_interval, list_scheduled_calls):\n",
    "    func_limits = functions.FunctionsLimits(timeout_minutes=60, cpu_cores=0.25, memory_gb=1, runtimes=[\"py39\"], response_size_mb=2.5)\n",
    "    client = initialize_client(cdf_env, cache_token=False)\n",
    "\n",
    "    for data_dict in data_dicts:\n",
    "        folder = os.getcwd().replace(\"\\\\\", \"/\")\n",
    "        folder_cf = folder + \"/\" + data_dict[\"function_name\"]\n",
    "\n",
    "        zip_name = \"zip_handle.zip\"\n",
    "        zip_path = f\"{folder_cf}/{zip_name}\"\n",
    "\n",
    "        with zipfile.ZipFile(zip_path, 'w') as zipf:\n",
    "            try:\n",
    "                zipf.write(f'{folder_cf}/requirements.txt', arcname='requirements.txt')\n",
    "                zipf.write(f'{folder_cf}/../handler_utils.py', arcname='handler_utils.py')\n",
    "                zipf.write(f'{folder_cf}/handler.py', arcname='handler.py')\n",
    "                zipf.write(f'{folder_cf}/transformation.py', arcname='transformation.py')\n",
    "            except:\n",
    "                raise FileNotFoundError(\"Make sure you have the following three required files in your Cognite Function folder:\\n\" \\\n",
    "                                            \"\\trequirements.txt\\n\" \\\n",
    "                                            \"\\thandler.py\\n\" \\\n",
    "                                            \"\\ttransformation.py\")\n",
    "        zipf.close()\n",
    "\n",
    "        uploaded = client.files.upload(path=zip_path, name=zip_name, data_set_id=data_dict[\"dataset_id\"])\n",
    "\n",
    "        func_create = client.functions.create(\n",
    "                                            name=f\"{data_dict['function_name']}\",\n",
    "                                            external_id=f\"{data_dict['function_name']}\",\n",
    "                                            # folder=\".\",\n",
    "                                            file_id=uploaded.id,\n",
    "                                        )\n",
    "\n",
    "        cognite_function = client.functions.retrieve(external_id=f\"{data_dict['function_name']}\")\n",
    "\n",
    "        # Single call to function to run initial transformation before scheduling\n",
    "        call_cognite_function = cognite_function.call(data=data_dict)\n",
    "\n",
    "        # AFTER initial call, function can be scheduled\n",
    "        func_drainage_schedule = client.functions.schedules.create(\n",
    "            name=f\"{data_dict['function_name']}\",\n",
    "            cron_expression=f\"*/{cron_interval} * * * *\", # every 15 min\n",
    "            function_id=cognite_function.id,\n",
    "            #client_credentials=client,\n",
    "            description=f\"Calculation scheduled every {cron_interval} minute\",\n",
    "            data=data_dict\n",
    "        )\n",
    "\n",
    "        if list_scheduled_calls:\n",
    "            my_func = client.functions.retrieve(external_id=data_dict[\"function_name\"])\n",
    "            my_schedule_id = client.functions.schedules.list(\n",
    "                        name=data_dict[\"function_name\"]).to_pandas().id[0]\n",
    "            all_calls = my_func.list_calls(\n",
    "                        schedule_id=my_schedule_id, limit=-1).to_pandas()\n",
    "            print(f\"Calls for Cognite Function '{my_func.name}':\\n{all_calls.tail()}\")"
   ]
  },
  {
   "cell_type": "markdown",
   "metadata": {},
   "source": [
    "### Setup folder structure for Cognite Function"
   ]
  },
  {
   "cell_type": "code",
   "execution_count": 4,
   "metadata": {},
   "outputs": [],
   "source": [
    "folder = os.getcwd().replace(\"\\\\\", \"/\")\n",
    "folder_cf = folder + \"/\" + data_dict[\"function_name\"]\n",
    "\n",
    "zip_name = \"zip_handle.zip\"\n",
    "zip_path = f\"{folder_cf}/{zip_name}\"\n",
    "\n",
    "# if not os.path.exists(zip_path):\n",
    "#     open(zip_path, \"w\").close()\n",
    "\n",
    "with zipfile.ZipFile(zip_path, 'w') as zipf:\n",
    "    try:\n",
    "        zipf.write(f'{folder_cf}/requirements.txt', arcname='requirements.txt')\n",
    "        zipf.write(f'{folder_cf}/../handler_utils.py', arcname='handler_utils.py')\n",
    "        zipf.write(f'{folder_cf}/handler.py', arcname='handler.py')\n",
    "        zipf.write(f'{folder_cf}/transformation.py', arcname='transformation.py')\n",
    "    except:\n",
    "        raise FileNotFoundError(\"Make sure you have the following three required files in your Cognite Function folder:\\n\" \\\n",
    "                                    \"\\trequirements.txt\\n\" \\\n",
    "                                    \"\\thandler.py\\n\" \\\n",
    "                                    \"\\ttransformation.py\")\n",
    "zipf.close()"
   ]
  },
  {
   "cell_type": "markdown",
   "metadata": {},
   "source": [
    "### Upload file to be associated with your dataset"
   ]
  },
  {
   "cell_type": "code",
   "execution_count": 5,
   "metadata": {},
   "outputs": [],
   "source": [
    "# os.chdir(data_dict[\"function_name\"])\n",
    "# zip_name = \"zippy_new.zip\"\n",
    "uploaded = client.files.upload(path=zip_path, name=zip_name, data_set_id=data_dict[\"dataset_id\"])"
   ]
  },
  {
   "cell_type": "markdown",
   "metadata": {},
   "source": [
    "### Deploy Cognite function"
   ]
  },
  {
   "cell_type": "code",
   "execution_count": 6,
   "metadata": {},
   "outputs": [],
   "source": [
    "# Create function for initial writing (only called once, not on schedule)\n",
    "func_drainage = client.functions.create(\n",
    "    name=f\"{data_dict['function_name']}\",\n",
    "    external_id=f\"{data_dict['function_name']}\",\n",
    "    # folder=\".\",\n",
    "    file_id=uploaded.id,\n",
    ")"
   ]
  },
  {
   "cell_type": "code",
   "execution_count": 8,
   "metadata": {},
   "outputs": [
    {
     "data": {
      "text/plain": [
       "'Deploying'"
      ]
     },
     "execution_count": 8,
     "metadata": {},
     "output_type": "execute_result"
    }
   ],
   "source": [
    "func_drainage = client.functions.retrieve(external_id=f\"{data_dict['function_name']}\")\n",
    "func_drainage.status\n",
    "# func_drainage.list_calls().to_pandas()"
   ]
  },
  {
   "cell_type": "code",
   "execution_count": 110,
   "metadata": {},
   "outputs": [],
   "source": [
    "# Important! Do single call to function to transform entire time series\n",
    "# If doing this initial call from schedule it will time out (after ca 15 min)!\n",
    "call_func_drainage = func_drainage.call(data=data_dict)"
   ]
  },
  {
   "cell_type": "markdown",
   "metadata": {},
   "source": [
    "### Schedule Cognite function"
   ]
  },
  {
   "cell_type": "code",
   "execution_count": 10,
   "metadata": {},
   "outputs": [],
   "source": [
    "# AFTER initial call, schedule can be called\n",
    "func_drainage_schedule = client.functions.schedules.create(\n",
    "    name=f\"{data_dict['function_name']}\",\n",
    "    cron_expression=f\"*/{cron_interval} * * * *\", # every 15 min\n",
    "    function_id=func_drainage.id,\n",
    "    #client_credentials=client,\n",
    "    description=f\"Calculation scheduled every {cron_interval} minute\",\n",
    "    data=data_dict\n",
    ")"
   ]
  },
  {
   "cell_type": "code",
   "execution_count": 7,
   "metadata": {},
   "outputs": [
    {
     "data": {
      "text/plain": [
       "'null'"
      ]
     },
     "execution_count": 7,
     "metadata": {},
     "output_type": "execute_result"
    }
   ],
   "source": [
    "sid = client.functions.schedules.list(function_id=func_drainage.id).to_pandas().id[0]\n",
    "scid = func_drainage.list_calls(schedule_id=sid, limit=-1).to_pandas()\n",
    "# resp = func_drainage.retrieve_call(id=scid).get_response()\n",
    "# pd.to_datetime(scid.iloc[0].scheduled_time, unit=\"ms\")\n",
    "myid = scid[scid[\"id\"] == 3963540466515989][\"id\"].iloc[0]\n",
    "resp = ast.literal_eval(func_drainage.retrieve_call(id=myid).get_response())['VAL_11-LT-95034A:X.Value']\n",
    "# pd.to_datetime(list(resp.keys())[0], unit=\"ms\")\n",
    "resp\n"
   ]
  },
  {
   "cell_type": "code",
   "execution_count": 66,
   "metadata": {},
   "outputs": [
    {
     "data": {
      "text/html": [
       "<div>\n",
       "<style scoped>\n",
       "    .dataframe tbody tr th:only-of-type {\n",
       "        vertical-align: middle;\n",
       "    }\n",
       "\n",
       "    .dataframe tbody tr th {\n",
       "        vertical-align: top;\n",
       "    }\n",
       "\n",
       "    .dataframe thead th {\n",
       "        text-align: right;\n",
       "    }\n",
       "</style>\n",
       "<table border=\"1\" class=\"dataframe\">\n",
       "  <thead>\n",
       "    <tr style=\"text-align: right;\">\n",
       "      <th></th>\n",
       "      <th>id</th>\n",
       "      <th>start_time</th>\n",
       "      <th>end_time</th>\n",
       "      <th>scheduled_time</th>\n",
       "      <th>status</th>\n",
       "      <th>schedule_id</th>\n",
       "      <th>function_id</th>\n",
       "    </tr>\n",
       "  </thead>\n",
       "  <tbody>\n",
       "    <tr>\n",
       "      <th>264</th>\n",
       "      <td>3527879883784</td>\n",
       "      <td>1699030802847</td>\n",
       "      <td>1699030805148</td>\n",
       "      <td>1699030800000</td>\n",
       "      <td>Completed</td>\n",
       "      <td>1505771999771564</td>\n",
       "      <td>3610320854540928</td>\n",
       "    </tr>\n",
       "    <tr>\n",
       "      <th>265</th>\n",
       "      <td>5345632406477003</td>\n",
       "      <td>1699029902035</td>\n",
       "      <td>1699029904289</td>\n",
       "      <td>1699029900000</td>\n",
       "      <td>Completed</td>\n",
       "      <td>1505771999771564</td>\n",
       "      <td>3610320854540928</td>\n",
       "    </tr>\n",
       "    <tr>\n",
       "      <th>266</th>\n",
       "      <td>8166367162050530</td>\n",
       "      <td>1699029002012</td>\n",
       "      <td>1699029004254</td>\n",
       "      <td>1699029000000</td>\n",
       "      <td>Completed</td>\n",
       "      <td>1505771999771564</td>\n",
       "      <td>3610320854540928</td>\n",
       "    </tr>\n",
       "    <tr>\n",
       "      <th>267</th>\n",
       "      <td>813725456372990</td>\n",
       "      <td>1699028101442</td>\n",
       "      <td>1699028103960</td>\n",
       "      <td>1699028100000</td>\n",
       "      <td>Completed</td>\n",
       "      <td>1505771999771564</td>\n",
       "      <td>3610320854540928</td>\n",
       "    </tr>\n",
       "    <tr>\n",
       "      <th>268</th>\n",
       "      <td>6318907194612398</td>\n",
       "      <td>1699027201880</td>\n",
       "      <td>1699027204335</td>\n",
       "      <td>1699027200000</td>\n",
       "      <td>Completed</td>\n",
       "      <td>1505771999771564</td>\n",
       "      <td>3610320854540928</td>\n",
       "    </tr>\n",
       "  </tbody>\n",
       "</table>\n",
       "</div>"
      ],
      "text/plain": [
       "                   id     start_time       end_time  scheduled_time  \\\n",
       "264     3527879883784  1699030802847  1699030805148   1699030800000   \n",
       "265  5345632406477003  1699029902035  1699029904289   1699029900000   \n",
       "266  8166367162050530  1699029002012  1699029004254   1699029000000   \n",
       "267   813725456372990  1699028101442  1699028103960   1699028100000   \n",
       "268  6318907194612398  1699027201880  1699027204335   1699027200000   \n",
       "\n",
       "        status       schedule_id       function_id  \n",
       "264  Completed  1505771999771564  3610320854540928  \n",
       "265  Completed  1505771999771564  3610320854540928  \n",
       "266  Completed  1505771999771564  3610320854540928  \n",
       "267  Completed  1505771999771564  3610320854540928  \n",
       "268  Completed  1505771999771564  3610320854540928  "
      ]
     },
     "execution_count": 66,
     "metadata": {},
     "output_type": "execute_result"
    }
   ],
   "source": [
    "my_func = client.functions.retrieve(external_id=data_dict[\"function_name\"])\n",
    "my_schedule_id = client.functions.schedules.list(\n",
    "            name=data_dict[\"function_name\"]).to_pandas().id[0]\n",
    "all_calls = my_func.list_calls(\n",
    "            schedule_id=my_schedule_id, limit=-1).to_pandas()\n",
    "all_calls.tail()"
   ]
  },
  {
   "cell_type": "markdown",
   "metadata": {},
   "source": [
    "### NB: Delete function"
   ]
  },
  {
   "cell_type": "code",
   "execution_count": 13,
   "metadata": {},
   "outputs": [],
   "source": [
    "client.functions.delete(id=func_drainage.id)"
   ]
  },
  {
   "cell_type": "markdown",
   "metadata": {},
   "source": [
    "client.time_series.delete(external_id=f\"VAL_11-LT-95034A:X.CDF.D.AVG.LeakValue{func_suffix}\")"
   ]
  },
  {
   "cell_type": "markdown",
   "metadata": {},
   "source": [
    "## Experimental"
   ]
  },
  {
   "cell_type": "markdown",
   "metadata": {},
   "source": [
    "### Generalizing Cognite Functions - sketch"
   ]
  },
  {
   "cell_type": "code",
   "execution_count": 11,
   "metadata": {},
   "outputs": [],
   "source": [
    "ts_all = {\n",
    "        'ts_A': {'name':'A', 'granularity':15, 'var':'a'},\n",
    "        'ts_B': {'name':'B', 'granularity':10, 'b_specific':[1,2,3]},\n",
    "        'ts_X': {'name':'X', 'max_days':8, 'thermo_coeff': 0.05, 'filter':'lowess'},\n",
    "        'ts_Y': {'name':'Y', 'tot_days': 40}\n",
    "        }"
   ]
  },
  {
   "cell_type": "code",
   "execution_count": null,
   "metadata": {},
   "outputs": [],
   "source": [
    "func_drainage = client.functions.retrieve(external_id=\"draiange\")\n",
    "func_thermo = client.functions.retrieve(external_id=\"thermo\")\n",
    "\n",
    "func_drainage_schedule = []\n",
    "func_thermo_schedule = []\n",
    "\n",
    "# Create individual schedules for three time series running drainage-Cognite-function\n",
    "for ts in ['A', 'B', 'Y']:\n",
    "    func_schedule = client.functions.schedules.create(\n",
    "        name=f\"avg-leak-{ts}\",\n",
    "        cron_expression=f\"*/{cron_interval} * * * *\",\n",
    "        function_id=func_drainage.id, # SAME function id\n",
    "        description=f\"Leak rate calculation for time series {ts}\",\n",
    "        data=ts_all[f'ts_{ts}'] # DIFFERENT data dictionaries\n",
    "    )\n",
    "    func_drainage_schedule.append(func_schedule)\n",
    "\n",
    "func_drainage_X = client.functions.schedules.create(\n",
    "    name=f\"avg-leak-X\",\n",
    "    cron_expression=f\"*/{cron_interval} * * * *\",\n",
    "    function_id=func_drainage.id,\n",
    "    description=f\"Leak rate calculation for time series X\",\n",
    "    data=ts_all['ts_X'],\n",
    ")\n",
    "\n",
    "# Run schedules for DIFFERENT Cognite Functions on SAME time series Y.\n",
    "# ALTERNATIVE 1: Each one with SAME data dictionary\n",
    "for func in [func_drainage, func_thermo]:\n",
    "    func_schedule = client.functions.schedules.create(\n",
    "        name=f\"tsY_{func.name}\",\n",
    "        cron_expression=f\"*/{cron_interval} * * * *\",\n",
    "        function_id=func.id, # DIFFERENT function ids\n",
    "        description=f\"{func.name} calculation for time series Y\",\n",
    "        data=ts_all['ts_Y'] # SAME data dictionary\n",
    "    )\n",
    "    func_thermo_schedule.append(func_schedule)\n",
    "\n",
    "# ALTERNATIVE 2: Each one with DIFFERENT data dictionaries\n",
    "for func in [func_drainage, func_thermo]:\n",
    "    func_schedule = client.functions.schedules.create(\n",
    "        name=f\"tsY_{func.name}\",\n",
    "        cron_expression=f\"*/{cron_interval} * * * *\",\n",
    "        function_id=func.id, # DIFFERENT function ids\n",
    "        description=f\"{func.name} calculation for time series Y\",\n",
    "        data=ts_all[f'ts_Y'][func.name] # DIFFERENT data dictionaries\n",
    "    )\n",
    "    func_thermo_schedule.append(func_schedule)\n"
   ]
  },
  {
   "cell_type": "markdown",
   "metadata": {},
   "source": [
    "### Testing (NB: move these to `test` folder)"
   ]
  },
  {
   "cell_type": "code",
   "execution_count": 86,
   "metadata": {},
   "outputs": [],
   "source": [
    "exec(\"import scipy\")"
   ]
  },
  {
   "cell_type": "code",
   "execution_count": 88,
   "metadata": {},
   "outputs": [],
   "source": [
    "folder = \"matplotlib\"\n",
    "exec(f\"import {folder}.pyplot as plt\")"
   ]
  },
  {
   "cell_type": "code",
   "execution_count": 90,
   "metadata": {},
   "outputs": [
    {
     "ename": "TypeError",
     "evalue": "cannot unpack non-iterable Axes object",
     "output_type": "error",
     "traceback": [
      "\u001b[1;31m---------------------------------------------------------------------------\u001b[0m",
      "\u001b[1;31mTypeError\u001b[0m                                 Traceback (most recent call last)",
      "\u001b[1;32mc:\\Users\\vetnev\\OneDrive - Aker BP\\Documents\\First Task\\opshub-task1\\src\\run_functions.ipynb Cell 26\u001b[0m line \u001b[0;36m1\n\u001b[1;32m----> <a href='vscode-notebook-cell:/c%3A/Users/vetnev/OneDrive%20-%20Aker%20BP/Documents/First%20Task/opshub-task1/src/run_functions.ipynb#X43sZmlsZQ%3D%3D?line=0'>1</a>\u001b[0m fig, ax \u001b[39m=\u001b[39m plt\u001b[39m.\u001b[39msubplot()\n\u001b[0;32m      <a href='vscode-notebook-cell:/c%3A/Users/vetnev/OneDrive%20-%20Aker%20BP/Documents/First%20Task/opshub-task1/src/run_functions.ipynb#X43sZmlsZQ%3D%3D?line=1'>2</a>\u001b[0m ax\n",
      "\u001b[1;31mTypeError\u001b[0m: cannot unpack non-iterable Axes object"
     ]
    },
    {
     "data": {
      "image/png": "[encoded data removed]",
      "text/plain": [
       "<Figure size 640x480 with 1 Axes>"
      ]
     },
     "metadata": {},
     "output_type": "display_data"
    }
   ],
   "source": []
  }
 ],
 "metadata": {
  "kernelspec": {
   "display_name": "firsttask",
   "language": "python",
   "name": "python3"
  },
  "language_info": {
   "codemirror_mode": {
    "name": "ipython",
    "version": 3
   },
   "file_extension": ".py",
   "mimetype": "text/x-python",
   "name": "python",
   "nbconvert_exporter": "python",
   "pygments_lexer": "ipython3",
   "version": "3.9.18"
  },
  "orig_nbformat": 4
 },
 "nbformat": 4,
 "nbformat_minor": 2
}

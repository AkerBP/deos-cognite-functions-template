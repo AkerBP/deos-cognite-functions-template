{
 "cells": [
  {
   "cell_type": "markdown",
   "metadata": {},
   "source": [
    "## Notebook for deploying Cognite Function"
   ]
  },
  {
   "cell_type": "markdown",
   "metadata": {},
   "source": [
    "### Authentication"
   ]
  },
  {
   "cell_type": "code",
   "execution_count": 1,
   "metadata": {},
   "outputs": [],
   "source": [
    "from datetime import datetime, timedelta\n",
    "import pandas as pd\n",
    "import numpy as np\n",
    "import os\n",
    "import sys\n",
    "import ast\n",
    "\n",
    "from cognite.client.data_classes import functions\n",
    "\n",
    "from initialize import initialize_client\n",
    "\n",
    "func_suffix = \"Development\""
   ]
  },
  {
   "cell_type": "code",
   "execution_count": 2,
   "metadata": {},
   "outputs": [],
   "source": [
    "ts_input_name = \"VAL_11-LT-95034A:X.Value\"\n",
    "ts_output_name = \"VAL_11-LT-95034A:X.CDF.D.AVG.LeakValue\"#f\"VAL_11-LT-95034A:X.D.LeakValue\"\n",
    "tank_volume = 1400\n",
    "derivative_value_excl = 0.002\n",
    "# start_date = datetime(2023, 3, 21, 1, 0, 0)\n",
    "function_name = \"avg-drainage-rate\"\n",
    "schedule_name = \"avg-drainage-rate-schedule\"\n",
    "\n",
    "data_dict = {'tot_days':0, 'tot_minutes':15, # convert date to str to make it JSON serializable\n",
    "            'ts_input_name':ts_input_name, 'ts_output_name':ts_output_name,\n",
    "            'derivative_value_excl':derivative_value_excl, 'tank_volume':tank_volume,\n",
    "            'cdf_env':\"dev\", 'dataset_id': 1832663593546318,\n",
    "            'backfill': False, 'backfill_period': 14,\n",
    "            'function_name': function_name, 'schedule_name': schedule_name,\n",
    "            'lowess_frac': 0.001, 'lowess_delta': 0.01} # NB: change dataset id when going to dev/test/prod!\n",
    "\n",
    "cron_interval = \"15\" # 15"
   ]
  },
  {
   "cell_type": "code",
   "execution_count": 3,
   "metadata": {},
   "outputs": [],
   "source": [
    "# Set limit on function runtime (initial write takes long time)\n",
    "func_limits = functions.FunctionsLimits(timeout_minutes=60, cpu_cores=0.25, memory_gb=1, runtimes=[\"py39\"], response_size_mb=2.5)\n",
    "# console.log() to find out where error occurs in code"
   ]
  },
  {
   "cell_type": "code",
   "execution_count": 4,
   "metadata": {},
   "outputs": [],
   "source": [
    "client = initialize_client(data_dict[\"cdf_env\"], cache_token=False)"
   ]
  },
  {
   "cell_type": "markdown",
   "metadata": {},
   "source": [
    "### Upload file to be associated with your dataset"
   ]
  },
  {
   "cell_type": "code",
   "execution_count": 5,
   "metadata": {},
   "outputs": [],
   "source": [
    "folder = os.getcwd().replace(\"\\\\\", \"/\")\n",
    "# function_path = \"handler.py\"\n",
    "function_path = \"zippy_new.zip\"\n",
    "\n",
    "uploaded = client.files.upload(path=f\"{folder}/{function_path}\", name=function_path, data_set_id=data_dict[\"dataset_id\"])"
   ]
  },
  {
   "cell_type": "markdown",
   "metadata": {},
   "source": [
    "### Deploy Cognite function"
   ]
  },
  {
   "cell_type": "code",
   "execution_count": 6,
   "metadata": {},
   "outputs": [],
   "source": [
    "# Create function for initial writing (only called once, not on schedule)\n",
    "func_drainage = client.functions.create(\n",
    "    name=f\"avg-drainage-rate-new\",\n",
    "    external_id=f\"avg-drainage-rate-new\",\n",
    "    # folder=\".\",\n",
    "    file_id=uploaded.id,\n",
    ")"
   ]
  },
  {
   "cell_type": "code",
   "execution_count": 8,
   "metadata": {},
   "outputs": [
    {
     "data": {
      "text/plain": [
       "'Ready'"
      ]
     },
     "execution_count": 8,
     "metadata": {},
     "output_type": "execute_result"
    }
   ],
   "source": [
    "func_drainage = client.functions.retrieve(external_id=f\"avg-drainage-rate-new\")\n",
    "func_drainage.status\n",
    "# func_drainage.list_calls().to_pandas()"
   ]
  },
  {
   "cell_type": "code",
   "execution_count": 43,
   "metadata": {},
   "outputs": [],
   "source": [
    "# Important! Do single call to function to transform entire time series\n",
    "# If doing this initial call from schedule it will time out (after ca 15 min)!\n",
    "call_func_drainage = func_drainage.call(data=data_dict)"
   ]
  },
  {
   "cell_type": "markdown",
   "metadata": {},
   "source": [
    "### Schedule Cognite function"
   ]
  },
  {
   "cell_type": "code",
   "execution_count": 9,
   "metadata": {},
   "outputs": [],
   "source": [
    "# AFTER initial call, schedule can be called\n",
    "func_drainage_schedule = client.functions.schedules.create(\n",
    "    name=f\"avg-drainage-rate-schedule-new\",\n",
    "    cron_expression=f\"*/{cron_interval} * * * *\", # every 15 min\n",
    "    function_id=func_drainage.id,\n",
    "    #client_credentials=client,\n",
    "    description=\"Calculation scheduled every hour\",\n",
    "    data=data_dict\n",
    ")"
   ]
  },
  {
   "cell_type": "code",
   "execution_count": 23,
   "metadata": {},
   "outputs": [
    {
     "data": {
      "text/plain": [
       "DatetimeIndex(['2023-10-04', '2023-10-03', '2023-10-06'], dtype='datetime64[ns]', freq=None)"
      ]
     },
     "execution_count": 23,
     "metadata": {},
     "output_type": "execute_result"
    }
   ],
   "source": [
    "sid = client.functions.schedules.list(function_id=func_drainage.id).to_pandas().id[0]\n",
    "scid = func_drainage.list_calls(schedule_id=sid, limit=-1).to_pandas()\n",
    "# resp = func_drainage.retrieve_call(id=scid).get_response()\n",
    "scid[\"date\"] = pd.to_datetime(scid[\"scheduled_time\"], unit=\"ms\").astype(str)\n",
    "# backfill_id = scid[scid[\"date\"].astype(str) == \"2023-10-22 17:30:00\"][\"id\"].iloc[0]\n",
    "# backfill_id\n",
    "pd.Timestamp.now()\n",
    "\n",
    "t1 = pd.DataFrame([1,5,3,4,3,6], index=pd.date_range(start=datetime(2023,10,1), end=datetime(2023,10,6)), columns=[\"Test\"])\n",
    "t2 = pd.DataFrame([1,5,1,7,3,5], index=pd.date_range(start=datetime(2023,10,1), end=datetime(2023,10,6)), columns=[\"Test\"])\n",
    "\n",
    "incr = t2[t2[\"Test\"] > t1[\"Test\"]].index\n",
    "decr = t2[t2[\"Test\"] < t1[\"Test\"]].index\n",
    "incr.union(decr, sort=True)"
   ]
  },
  {
   "cell_type": "markdown",
   "metadata": {},
   "source": [
    "### NB: Delete function"
   ]
  },
  {
   "cell_type": "code",
   "execution_count": 19,
   "metadata": {},
   "outputs": [],
   "source": [
    "client.functions.delete(id=func_drainage.id)"
   ]
  },
  {
   "cell_type": "markdown",
   "metadata": {},
   "source": [
    "client.time_series.delete(external_id=f\"VAL_11-LT-95034A:X.CDF.D.AVG.LeakValue{func_suffix}\")"
   ]
  },
  {
   "cell_type": "markdown",
   "metadata": {},
   "source": [
    "## Experimental"
   ]
  },
  {
   "cell_type": "markdown",
   "metadata": {},
   "source": [
    "### Generalizing Cognite Functions - sketch"
   ]
  },
  {
   "cell_type": "code",
   "execution_count": 11,
   "metadata": {},
   "outputs": [],
   "source": [
    "ts_all = {\n",
    "        'ts_A': {'name':'A', 'granularity':15, 'var':'a'},\n",
    "        'ts_B': {'name':'B', 'granularity':10, 'b_specific':[1,2,3]},\n",
    "        'ts_X': {'name':'X', 'max_days':8, 'thermo_coeff': 0.05, 'filter':'lowess'},\n",
    "        'ts_Y': {'name':'Y', 'tot_days': 40}\n",
    "        }"
   ]
  },
  {
   "cell_type": "code",
   "execution_count": null,
   "metadata": {},
   "outputs": [],
   "source": [
    "func_drainage = client.functions.retrieve(external_id=\"draiange\")\n",
    "func_thermo = client.functions.retrieve(external_id=\"thermo\")\n",
    "\n",
    "func_drainage_schedule = []\n",
    "func_thermo_schedule = []\n",
    "\n",
    "# Create individual schedules for three time series running drainage-Cognite-function\n",
    "for ts in ['A', 'B', 'Y']:\n",
    "    func_schedule = client.functions.schedules.create(\n",
    "        name=f\"avg-leak-{ts}\",\n",
    "        cron_expression=f\"*/{cron_interval} * * * *\",\n",
    "        function_id=func_drainage.id, # SAME function id\n",
    "        description=f\"Leak rate calculation for time series {ts}\",\n",
    "        data=ts_all[f'ts_{ts}'] # DIFFERENT data dictionaries\n",
    "    )\n",
    "    func_drainage_schedule.append(func_schedule)\n",
    "\n",
    "func_drainage_X = client.functions.schedules.create(\n",
    "    name=f\"avg-leak-X\",\n",
    "    cron_expression=f\"*/{cron_interval} * * * *\",\n",
    "    function_id=func_drainage.id,\n",
    "    description=f\"Leak rate calculation for time series X\",\n",
    "    data=ts_all['ts_X'],\n",
    ")\n",
    "\n",
    "# Run schedules on time series Y, each one with DIFFERENT Cognite-functions\n",
    "for func in [func_drainage, func_thermo]:\n",
    "    func_schedule = client.functions.schedules.create(\n",
    "        name=f\"tsY_{func.name}\",\n",
    "        cron_expression=f\"*/{cron_interval} * * * *\",\n",
    "        function_id=func.id, # DIFFERENT function ids\n",
    "        description=f\"{func.name} calculation for time series Y\",\n",
    "        data=ts_all['ts_Y'] # SAME data dictionary\n",
    "    )\n",
    "    func_thermo_schedule.append(func_schedule)"
   ]
  },
  {
   "cell_type": "markdown",
   "metadata": {},
   "source": [
    "### Testing (NB: move these to `test` folder)"
   ]
  },
  {
   "cell_type": "code",
   "execution_count": 86,
   "metadata": {},
   "outputs": [],
   "source": [
    "exec(\"import scipy\")"
   ]
  },
  {
   "cell_type": "code",
   "execution_count": 88,
   "metadata": {},
   "outputs": [],
   "source": [
    "folder = \"matplotlib\"\n",
    "exec(f\"import {folder}.pyplot as plt\")"
   ]
  },
  {
   "cell_type": "code",
   "execution_count": 90,
   "metadata": {},
   "outputs": [
    {
     "ename": "TypeError",
     "evalue": "cannot unpack non-iterable Axes object",
     "output_type": "error",
     "traceback": [
      "\u001b[1;31m---------------------------------------------------------------------------\u001b[0m",
      "\u001b[1;31mTypeError\u001b[0m                                 Traceback (most recent call last)",
      "\u001b[1;32mc:\\Users\\vetnev\\OneDrive - Aker BP\\Documents\\First Task\\opshub-task1\\src\\run_functions.ipynb Cell 26\u001b[0m line \u001b[0;36m1\n\u001b[1;32m----> <a href='vscode-notebook-cell:/c%3A/Users/vetnev/OneDrive%20-%20Aker%20BP/Documents/First%20Task/opshub-task1/src/run_functions.ipynb#X43sZmlsZQ%3D%3D?line=0'>1</a>\u001b[0m fig, ax \u001b[39m=\u001b[39m plt\u001b[39m.\u001b[39msubplot()\n\u001b[0;32m      <a href='vscode-notebook-cell:/c%3A/Users/vetnev/OneDrive%20-%20Aker%20BP/Documents/First%20Task/opshub-task1/src/run_functions.ipynb#X43sZmlsZQ%3D%3D?line=1'>2</a>\u001b[0m ax\n",
      "\u001b[1;31mTypeError\u001b[0m: cannot unpack non-iterable Axes object"
     ]
    },
    {
     "data": {
      "image/png": "[encoded data removed]",
      "text/plain": [
       "<Figure size 640x480 with 1 Axes>"
      ]
     },
     "metadata": {},
     "output_type": "display_data"
    }
   ],
   "source": []
  }
 ],
 "metadata": {
  "kernelspec": {
   "display_name": "firsttask",
   "language": "python",
   "name": "python3"
  },
  "language_info": {
   "codemirror_mode": {
    "name": "ipython",
    "version": 3
   },
   "file_extension": ".py",
   "mimetype": "text/x-python",
   "name": "python",
   "nbconvert_exporter": "python",
   "pygments_lexer": "ipython3",
   "version": "3.9.18"
  },
  "orig_nbformat": 4
 },
 "nbformat": 4,
 "nbformat_minor": 2
}

{
 "cells": [
  {
   "cell_type": "markdown",
   "metadata": {},
   "source": [
    "## Notebook for deploying Cognite Function\n",
    "\n",
    "Run all cells sequentially until `Experimental` section to deploy your Cognite Function.\n",
    "\n",
    "Modifications are done in `Inputs` section, where you need to supply relevant input parameters as required by instantiation, calculations and deployment of your Cognite Function. The input parameters related to calculations and deployment are stored in `data_dict`. There are two types of input parameters:\n",
    "- A: General parameters required for deployment of any Cognite Function\n",
    "- B: Optional (calculation-specific) parameters used as input to your calculation function. These should enter `data_dict[\"calc_params\"]` as key-value pairs.\n",
    "\n",
    "If your Cognite Function is already instantiated, but you want to set up a new schedule, you can omit calling `generate_cf` and skip straight to calling `deploy_cognite_functions` with a modified `data_dict` of parameters that satisfy your scheduled calculation."
   ]
  },
  {
   "cell_type": "markdown",
   "metadata": {},
   "source": [
    "### --- Authentication ---"
   ]
  },
  {
   "cell_type": "code",
   "execution_count": 1,
   "metadata": {},
   "outputs": [],
   "source": [
    "import pandas as pd\n",
    "from cognite.client.data_classes import functions\n",
    "from cognite.client.data_classes.functions import FunctionSchedulesList\n",
    "from cognite.client.data_classes.functions import FunctionSchedule\n",
    "\n",
    "from initialize import initialize_client\n",
    "from deploy_cognite_functions import deploy_cognite_functions\n",
    "from generate_cf import generate_cf\n",
    "\n",
    "cdf_env = \"dev\""
   ]
  },
  {
   "cell_type": "code",
   "execution_count": 2,
   "metadata": {},
   "outputs": [],
   "source": [
    "# Set limit on function calls - don't think it's really necessary ...\n",
    "func_limits = functions.FunctionsLimits(timeout_minutes=60, cpu_cores=0.25, memory_gb=1, runtimes=[\"py39\"], response_size_mb=2)\n",
    "client = initialize_client(cdf_env)"
   ]
  },
  {
   "cell_type": "code",
   "execution_count": 9,
   "metadata": {},
   "outputs": [
    {
     "ename": "CogniteNotFoundError",
     "evalue": "Not found: [{'externalId': 'CF_WastedEnergy'}]\nThe API Failed to process some items.\nSuccessful (2xx): []\nUnknown (5xx): []\nFailed (4xx): ['CF_WastedEnergy']",
     "output_type": "error",
     "traceback": [
      "\u001b[1;31m---------------------------------------------------------------------------\u001b[0m",
      "\u001b[1;31mCogniteAPIError\u001b[0m                           Traceback (most recent call last)",
      "File \u001b[1;32mc:\\Users\\vetnev\\OneDrive - Aker BP\\Documents\\First Task\\opshub-task1\\.venv\\Lib\\site-packages\\cognite\\client\\utils\\_concurrency.py:287\u001b[0m, in \u001b[0;36mexecute_tasks\u001b[1;34m(func, tasks, max_workers, fail_fast, executor)\u001b[0m\n\u001b[0;32m    286\u001b[0m \u001b[38;5;28;01mtry\u001b[39;00m:\n\u001b[1;32m--> 287\u001b[0m     res \u001b[38;5;241m=\u001b[39m \u001b[43mfut\u001b[49m\u001b[38;5;241;43m.\u001b[39;49m\u001b[43mresult\u001b[49m\u001b[43m(\u001b[49m\u001b[43m)\u001b[49m\n\u001b[0;32m    288\u001b[0m     successful_tasks\u001b[38;5;241m.\u001b[39mappend(task)\n",
      "File \u001b[1;32m~\\AppData\\Local\\anaconda3\\Lib\\concurrent\\futures\\_base.py:449\u001b[0m, in \u001b[0;36mFuture.result\u001b[1;34m(self, timeout)\u001b[0m\n\u001b[0;32m    448\u001b[0m \u001b[38;5;28;01melif\u001b[39;00m \u001b[38;5;28mself\u001b[39m\u001b[38;5;241m.\u001b[39m_state \u001b[38;5;241m==\u001b[39m FINISHED:\n\u001b[1;32m--> 449\u001b[0m     \u001b[38;5;28;01mreturn\u001b[39;00m \u001b[38;5;28;43mself\u001b[39;49m\u001b[38;5;241;43m.\u001b[39;49m\u001b[43m__get_result\u001b[49m\u001b[43m(\u001b[49m\u001b[43m)\u001b[49m\n\u001b[0;32m    451\u001b[0m \u001b[38;5;28mself\u001b[39m\u001b[38;5;241m.\u001b[39m_condition\u001b[38;5;241m.\u001b[39mwait(timeout)\n",
      "File \u001b[1;32m~\\AppData\\Local\\anaconda3\\Lib\\concurrent\\futures\\_base.py:401\u001b[0m, in \u001b[0;36mFuture.__get_result\u001b[1;34m(self)\u001b[0m\n\u001b[0;32m    400\u001b[0m \u001b[38;5;28;01mtry\u001b[39;00m:\n\u001b[1;32m--> 401\u001b[0m     \u001b[38;5;28;01mraise\u001b[39;00m \u001b[38;5;28mself\u001b[39m\u001b[38;5;241m.\u001b[39m_exception\n\u001b[0;32m    402\u001b[0m \u001b[38;5;28;01mfinally\u001b[39;00m:\n\u001b[0;32m    403\u001b[0m     \u001b[38;5;66;03m# Break a reference cycle with the exception in self._exception\u001b[39;00m\n",
      "File \u001b[1;32m~\\AppData\\Local\\anaconda3\\Lib\\concurrent\\futures\\thread.py:58\u001b[0m, in \u001b[0;36m_WorkItem.run\u001b[1;34m(self)\u001b[0m\n\u001b[0;32m     57\u001b[0m \u001b[38;5;28;01mtry\u001b[39;00m:\n\u001b[1;32m---> 58\u001b[0m     result \u001b[38;5;241m=\u001b[39m \u001b[38;5;28;43mself\u001b[39;49m\u001b[38;5;241;43m.\u001b[39;49m\u001b[43mfn\u001b[49m\u001b[43m(\u001b[49m\u001b[38;5;241;43m*\u001b[39;49m\u001b[38;5;28;43mself\u001b[39;49m\u001b[38;5;241;43m.\u001b[39;49m\u001b[43margs\u001b[49m\u001b[43m,\u001b[49m\u001b[43m \u001b[49m\u001b[38;5;241;43m*\u001b[39;49m\u001b[38;5;241;43m*\u001b[39;49m\u001b[38;5;28;43mself\u001b[39;49m\u001b[38;5;241;43m.\u001b[39;49m\u001b[43mkwargs\u001b[49m\u001b[43m)\u001b[49m\n\u001b[0;32m     59\u001b[0m \u001b[38;5;28;01mexcept\u001b[39;00m \u001b[38;5;167;01mBaseException\u001b[39;00m \u001b[38;5;28;01mas\u001b[39;00m exc:\n",
      "File \u001b[1;32mc:\\Users\\vetnev\\OneDrive - Aker BP\\Documents\\First Task\\opshub-task1\\.venv\\Lib\\site-packages\\cognite\\client\\_api_client.py:154\u001b[0m, in \u001b[0;36mAPIClient._post\u001b[1;34m(self, url_path, json, params, headers, api_subversion)\u001b[0m\n\u001b[0;32m    146\u001b[0m \u001b[38;5;28;01mdef\u001b[39;00m \u001b[38;5;21m_post\u001b[39m(\n\u001b[0;32m    147\u001b[0m     \u001b[38;5;28mself\u001b[39m,\n\u001b[0;32m    148\u001b[0m     url_path: \u001b[38;5;28mstr\u001b[39m,\n\u001b[1;32m   (...)\u001b[0m\n\u001b[0;32m    152\u001b[0m     api_subversion: \u001b[38;5;28mstr\u001b[39m \u001b[38;5;241m|\u001b[39m \u001b[38;5;28;01mNone\u001b[39;00m \u001b[38;5;241m=\u001b[39m \u001b[38;5;28;01mNone\u001b[39;00m,\n\u001b[0;32m    153\u001b[0m ) \u001b[38;5;241m-\u001b[39m\u001b[38;5;241m>\u001b[39m Response:\n\u001b[1;32m--> 154\u001b[0m     \u001b[38;5;28;01mreturn\u001b[39;00m \u001b[38;5;28;43mself\u001b[39;49m\u001b[38;5;241;43m.\u001b[39;49m\u001b[43m_do_request\u001b[49m\u001b[43m(\u001b[49m\n\u001b[0;32m    155\u001b[0m \u001b[43m        \u001b[49m\u001b[38;5;124;43m\"\u001b[39;49m\u001b[38;5;124;43mPOST\u001b[39;49m\u001b[38;5;124;43m\"\u001b[39;49m\u001b[43m,\u001b[49m\n\u001b[0;32m    156\u001b[0m \u001b[43m        \u001b[49m\u001b[43murl_path\u001b[49m\u001b[43m,\u001b[49m\n\u001b[0;32m    157\u001b[0m \u001b[43m        \u001b[49m\u001b[43mjson\u001b[49m\u001b[38;5;241;43m=\u001b[39;49m\u001b[43mjson\u001b[49m\u001b[43m,\u001b[49m\n\u001b[0;32m    158\u001b[0m \u001b[43m        \u001b[49m\u001b[43mheaders\u001b[49m\u001b[38;5;241;43m=\u001b[39;49m\u001b[43mheaders\u001b[49m\u001b[43m,\u001b[49m\n\u001b[0;32m    159\u001b[0m \u001b[43m        \u001b[49m\u001b[43mparams\u001b[49m\u001b[38;5;241;43m=\u001b[39;49m\u001b[43mparams\u001b[49m\u001b[43m,\u001b[49m\n\u001b[0;32m    160\u001b[0m \u001b[43m        \u001b[49m\u001b[43mtimeout\u001b[49m\u001b[38;5;241;43m=\u001b[39;49m\u001b[38;5;28;43mself\u001b[39;49m\u001b[38;5;241;43m.\u001b[39;49m\u001b[43m_config\u001b[49m\u001b[38;5;241;43m.\u001b[39;49m\u001b[43mtimeout\u001b[49m\u001b[43m,\u001b[49m\n\u001b[0;32m    161\u001b[0m \u001b[43m        \u001b[49m\u001b[43mapi_subversion\u001b[49m\u001b[38;5;241;43m=\u001b[39;49m\u001b[43mapi_subversion\u001b[49m\u001b[43m,\u001b[49m\n\u001b[0;32m    162\u001b[0m \u001b[43m    \u001b[49m\u001b[43m)\u001b[49m\n",
      "File \u001b[1;32mc:\\Users\\vetnev\\OneDrive - Aker BP\\Documents\\First Task\\opshub-task1\\.venv\\Lib\\site-packages\\cognite\\client\\_api_client.py:217\u001b[0m, in \u001b[0;36mAPIClient._do_request\u001b[1;34m(self, method, url_path, accept, api_subversion, **kwargs)\u001b[0m\n\u001b[0;32m    216\u001b[0m \u001b[38;5;28;01mif\u001b[39;00m \u001b[38;5;129;01mnot\u001b[39;00m \u001b[38;5;28mself\u001b[39m\u001b[38;5;241m.\u001b[39m_status_ok(res\u001b[38;5;241m.\u001b[39mstatus_code):\n\u001b[1;32m--> 217\u001b[0m     \u001b[38;5;28;43mself\u001b[39;49m\u001b[38;5;241;43m.\u001b[39;49m\u001b[43m_raise_api_error\u001b[49m\u001b[43m(\u001b[49m\u001b[43mres\u001b[49m\u001b[43m,\u001b[49m\u001b[43m \u001b[49m\u001b[43mpayload\u001b[49m\u001b[38;5;241;43m=\u001b[39;49m\u001b[43mjson_payload\u001b[49m\u001b[43m)\u001b[49m\n\u001b[0;32m    218\u001b[0m stream \u001b[38;5;241m=\u001b[39m kwargs\u001b[38;5;241m.\u001b[39mget(\u001b[38;5;124m\"\u001b[39m\u001b[38;5;124mstream\u001b[39m\u001b[38;5;124m\"\u001b[39m)\n",
      "File \u001b[1;32mc:\\Users\\vetnev\\OneDrive - Aker BP\\Documents\\First Task\\opshub-task1\\.venv\\Lib\\site-packages\\cognite\\client\\_api_client.py:1229\u001b[0m, in \u001b[0;36mAPIClient._raise_api_error\u001b[1;34m(cls, res, payload)\u001b[0m\n\u001b[0;32m   1228\u001b[0m logger\u001b[38;5;241m.\u001b[39mdebug(\u001b[38;5;124mf\u001b[39m\u001b[38;5;124m\"\u001b[39m\u001b[38;5;124mHTTP Error \u001b[39m\u001b[38;5;132;01m{\u001b[39;00mcode\u001b[38;5;132;01m}\u001b[39;00m\u001b[38;5;124m \u001b[39m\u001b[38;5;132;01m{\u001b[39;00mres\u001b[38;5;241m.\u001b[39mrequest\u001b[38;5;241m.\u001b[39mmethod\u001b[38;5;132;01m}\u001b[39;00m\u001b[38;5;124m \u001b[39m\u001b[38;5;132;01m{\u001b[39;00mres\u001b[38;5;241m.\u001b[39mrequest\u001b[38;5;241m.\u001b[39murl\u001b[38;5;132;01m}\u001b[39;00m\u001b[38;5;124m: \u001b[39m\u001b[38;5;132;01m{\u001b[39;00mmsg\u001b[38;5;132;01m}\u001b[39;00m\u001b[38;5;124m\"\u001b[39m, extra\u001b[38;5;241m=\u001b[39merror_details)\n\u001b[1;32m-> 1229\u001b[0m \u001b[38;5;28;01mraise\u001b[39;00m CogniteAPIError(msg, code, x_request_id, missing\u001b[38;5;241m=\u001b[39mmissing, duplicated\u001b[38;5;241m=\u001b[39mduplicated, extra\u001b[38;5;241m=\u001b[39mextra)\n",
      "\u001b[1;31mCogniteAPIError\u001b[0m: Time series not found | code: 400 | X-Request-ID: cba8b16d-944e-9751-bfc0-ef878c1d47d2\nMissing: [{'externalId': 'CF_WastedEnergy'}]",
      "\nThe above exception was the direct cause of the following exception:\n",
      "\u001b[1;31mCogniteNotFoundError\u001b[0m                      Traceback (most recent call last)",
      "Cell \u001b[1;32mIn[9], line 3\u001b[0m\n\u001b[0;32m      1\u001b[0m \u001b[38;5;66;03m# client.time_series.delete(external_id=\"VAL_17-FI-9101-286:VALUE.COPY\")\u001b[39;00m\n\u001b[0;32m      2\u001b[0m \u001b[38;5;66;03m# client.time_series.delete(external_id=\"test_CF\")\u001b[39;00m\n\u001b[1;32m----> 3\u001b[0m \u001b[43mclient\u001b[49m\u001b[38;5;241;43m.\u001b[39;49m\u001b[43mtime_series\u001b[49m\u001b[38;5;241;43m.\u001b[39;49m\u001b[43mdelete\u001b[49m\u001b[43m(\u001b[49m\u001b[43mexternal_id\u001b[49m\u001b[38;5;241;43m=\u001b[39;49m\u001b[38;5;124;43m\"\u001b[39;49m\u001b[38;5;124;43mCF_WastedEnergy\u001b[39;49m\u001b[38;5;124;43m\"\u001b[39;49m\u001b[43m)\u001b[49m\n",
      "File \u001b[1;32mc:\\Users\\vetnev\\OneDrive - Aker BP\\Documents\\First Task\\opshub-task1\\.venv\\Lib\\site-packages\\cognite\\client\\_api\\time_series.py:533\u001b[0m, in \u001b[0;36mTimeSeriesAPI.delete\u001b[1;34m(self, id, external_id, ignore_unknown_ids)\u001b[0m\n\u001b[0;32m    512\u001b[0m \u001b[38;5;28;01mdef\u001b[39;00m \u001b[38;5;21mdelete\u001b[39m(\n\u001b[0;32m    513\u001b[0m     \u001b[38;5;28mself\u001b[39m,\n\u001b[0;32m    514\u001b[0m     \u001b[38;5;28mid\u001b[39m: \u001b[38;5;28mint\u001b[39m \u001b[38;5;241m|\u001b[39m Sequence[\u001b[38;5;28mint\u001b[39m] \u001b[38;5;241m|\u001b[39m \u001b[38;5;28;01mNone\u001b[39;00m \u001b[38;5;241m=\u001b[39m \u001b[38;5;28;01mNone\u001b[39;00m,\n\u001b[0;32m    515\u001b[0m     external_id: \u001b[38;5;28mstr\u001b[39m \u001b[38;5;241m|\u001b[39m Sequence[\u001b[38;5;28mstr\u001b[39m] \u001b[38;5;241m|\u001b[39m \u001b[38;5;28;01mNone\u001b[39;00m \u001b[38;5;241m=\u001b[39m \u001b[38;5;28;01mNone\u001b[39;00m,\n\u001b[0;32m    516\u001b[0m     ignore_unknown_ids: \u001b[38;5;28mbool\u001b[39m \u001b[38;5;241m=\u001b[39m \u001b[38;5;28;01mFalse\u001b[39;00m,\n\u001b[0;32m    517\u001b[0m ) \u001b[38;5;241m-\u001b[39m\u001b[38;5;241m>\u001b[39m \u001b[38;5;28;01mNone\u001b[39;00m:\n\u001b[0;32m    518\u001b[0m \u001b[38;5;250m    \u001b[39m\u001b[38;5;124;03m\"\"\"`Delete one or more time series. <https://developer.cognite.com/api#tag/Time-series/operation/deleteTimeSeries>`_\u001b[39;00m\n\u001b[0;32m    519\u001b[0m \n\u001b[0;32m    520\u001b[0m \u001b[38;5;124;03m    Args:\u001b[39;00m\n\u001b[1;32m   (...)\u001b[0m\n\u001b[0;32m    531\u001b[0m \u001b[38;5;124;03m            >>> c.time_series.delete(id=[1,2,3], external_id=\"3\")\u001b[39;00m\n\u001b[0;32m    532\u001b[0m \u001b[38;5;124;03m    \"\"\"\u001b[39;00m\n\u001b[1;32m--> 533\u001b[0m     \u001b[38;5;28;43mself\u001b[39;49m\u001b[38;5;241;43m.\u001b[39;49m\u001b[43m_delete_multiple\u001b[49m\u001b[43m(\u001b[49m\n\u001b[0;32m    534\u001b[0m \u001b[43m        \u001b[49m\u001b[43midentifiers\u001b[49m\u001b[38;5;241;43m=\u001b[39;49m\u001b[43mIdentifierSequence\u001b[49m\u001b[38;5;241;43m.\u001b[39;49m\u001b[43mload\u001b[49m\u001b[43m(\u001b[49m\u001b[43mids\u001b[49m\u001b[38;5;241;43m=\u001b[39;49m\u001b[38;5;28;43mid\u001b[39;49m\u001b[43m,\u001b[49m\u001b[43m \u001b[49m\u001b[43mexternal_ids\u001b[49m\u001b[38;5;241;43m=\u001b[39;49m\u001b[43mexternal_id\u001b[49m\u001b[43m)\u001b[49m\u001b[43m,\u001b[49m\n\u001b[0;32m    535\u001b[0m \u001b[43m        \u001b[49m\u001b[43mwrap_ids\u001b[49m\u001b[38;5;241;43m=\u001b[39;49m\u001b[38;5;28;43;01mTrue\u001b[39;49;00m\u001b[43m,\u001b[49m\n\u001b[0;32m    536\u001b[0m \u001b[43m        \u001b[49m\u001b[43mextra_body_fields\u001b[49m\u001b[38;5;241;43m=\u001b[39;49m\u001b[43m{\u001b[49m\u001b[38;5;124;43m\"\u001b[39;49m\u001b[38;5;124;43mignoreUnknownIds\u001b[39;49m\u001b[38;5;124;43m\"\u001b[39;49m\u001b[43m:\u001b[49m\u001b[43m \u001b[49m\u001b[43mignore_unknown_ids\u001b[49m\u001b[43m}\u001b[49m\u001b[43m,\u001b[49m\n\u001b[0;32m    537\u001b[0m \u001b[43m    \u001b[49m\u001b[43m)\u001b[49m\n",
      "File \u001b[1;32mc:\\Users\\vetnev\\OneDrive - Aker BP\\Documents\\First Task\\opshub-task1\\.venv\\Lib\\site-packages\\cognite\\client\\_api_client.py:906\u001b[0m, in \u001b[0;36mAPIClient._delete_multiple\u001b[1;34m(self, identifiers, wrap_ids, resource_path, params, headers, extra_body_fields, returns_items, executor)\u001b[0m\n\u001b[0;32m    893\u001b[0m tasks \u001b[38;5;241m=\u001b[39m [\n\u001b[0;32m    894\u001b[0m     {\n\u001b[0;32m    895\u001b[0m         \u001b[38;5;124m\"\u001b[39m\u001b[38;5;124murl_path\u001b[39m\u001b[38;5;124m\"\u001b[39m: resource_path \u001b[38;5;241m+\u001b[39m \u001b[38;5;124m\"\u001b[39m\u001b[38;5;124m/delete\u001b[39m\u001b[38;5;124m\"\u001b[39m,\n\u001b[1;32m   (...)\u001b[0m\n\u001b[0;32m    903\u001b[0m     \u001b[38;5;28;01mfor\u001b[39;00m chunk \u001b[38;5;129;01min\u001b[39;00m identifiers\u001b[38;5;241m.\u001b[39mchunked(\u001b[38;5;28mself\u001b[39m\u001b[38;5;241m.\u001b[39m_DELETE_LIMIT)\n\u001b[0;32m    904\u001b[0m ]\n\u001b[0;32m    905\u001b[0m summary \u001b[38;5;241m=\u001b[39m execute_tasks(\u001b[38;5;28mself\u001b[39m\u001b[38;5;241m.\u001b[39m_post, tasks, max_workers\u001b[38;5;241m=\u001b[39m\u001b[38;5;28mself\u001b[39m\u001b[38;5;241m.\u001b[39m_config\u001b[38;5;241m.\u001b[39mmax_workers, executor\u001b[38;5;241m=\u001b[39mexecutor)\n\u001b[1;32m--> 906\u001b[0m \u001b[43msummary\u001b[49m\u001b[38;5;241;43m.\u001b[39;49m\u001b[43mraise_compound_exception_if_failed_tasks\u001b[49m\u001b[43m(\u001b[49m\n\u001b[0;32m    907\u001b[0m \u001b[43m    \u001b[49m\u001b[43mtask_unwrap_fn\u001b[49m\u001b[38;5;241;43m=\u001b[39;49m\u001b[43munpack_items_in_payload\u001b[49m\u001b[43m,\u001b[49m\n\u001b[0;32m    908\u001b[0m \u001b[43m    \u001b[49m\u001b[43mtask_list_element_unwrap_fn\u001b[49m\u001b[38;5;241;43m=\u001b[39;49m\u001b[43midentifiers\u001b[49m\u001b[38;5;241;43m.\u001b[39;49m\u001b[43munwrap_identifier\u001b[49m\u001b[43m,\u001b[49m\n\u001b[0;32m    909\u001b[0m \u001b[43m\u001b[49m\u001b[43m)\u001b[49m\n\u001b[0;32m    910\u001b[0m \u001b[38;5;28;01mif\u001b[39;00m returns_items:\n\u001b[0;32m    911\u001b[0m     \u001b[38;5;28;01mreturn\u001b[39;00m summary\u001b[38;5;241m.\u001b[39mjoined_results(\u001b[38;5;28;01mlambda\u001b[39;00m res: res\u001b[38;5;241m.\u001b[39mjson()[\u001b[38;5;124m\"\u001b[39m\u001b[38;5;124mitems\u001b[39m\u001b[38;5;124m\"\u001b[39m])\n",
      "File \u001b[1;32mc:\\Users\\vetnev\\OneDrive - Aker BP\\Documents\\First Task\\opshub-task1\\.venv\\Lib\\site-packages\\cognite\\client\\utils\\_concurrency.py:75\u001b[0m, in \u001b[0;36mTasksSummary.raise_compound_exception_if_failed_tasks\u001b[1;34m(self, task_unwrap_fn, task_list_element_unwrap_fn, str_format_element_fn)\u001b[0m\n\u001b[0;32m     73\u001b[0m     \u001b[38;5;28mself\u001b[39m\u001b[38;5;241m.\u001b[39m_raise_basic_api_error(str_format_element_fn, \u001b[38;5;241m*\u001b[39m\u001b[38;5;241m*\u001b[39mtask_lists)\n\u001b[0;32m     74\u001b[0m \u001b[38;5;28;01mif\u001b[39;00m \u001b[38;5;28mself\u001b[39m\u001b[38;5;241m.\u001b[39mnot_found_error:\n\u001b[1;32m---> 75\u001b[0m     \u001b[38;5;28;43mself\u001b[39;49m\u001b[38;5;241;43m.\u001b[39;49m\u001b[43m_raise_not_found_error\u001b[49m\u001b[43m(\u001b[49m\u001b[43mstr_format_element_fn\u001b[49m\u001b[43m,\u001b[49m\u001b[43m \u001b[49m\u001b[38;5;241;43m*\u001b[39;49m\u001b[38;5;241;43m*\u001b[39;49m\u001b[43mtask_lists\u001b[49m\u001b[43m)\u001b[49m\n\u001b[0;32m     76\u001b[0m \u001b[38;5;28;01mif\u001b[39;00m \u001b[38;5;28mself\u001b[39m\u001b[38;5;241m.\u001b[39mduplicated_error:\n\u001b[0;32m     77\u001b[0m     \u001b[38;5;28mself\u001b[39m\u001b[38;5;241m.\u001b[39m_raise_duplicated_error(str_format_element_fn, \u001b[38;5;241m*\u001b[39m\u001b[38;5;241m*\u001b[39mtask_lists)\n",
      "File \u001b[1;32mc:\\Users\\vetnev\\OneDrive - Aker BP\\Documents\\First Task\\opshub-task1\\.venv\\Lib\\site-packages\\cognite\\client\\utils\\_concurrency.py:112\u001b[0m, in \u001b[0;36mTasksSummary._raise_not_found_error\u001b[1;34m(self, unwrap_fn, **task_lists)\u001b[0m\n\u001b[0;32m    111\u001b[0m \u001b[38;5;28;01mdef\u001b[39;00m \u001b[38;5;21m_raise_not_found_error\u001b[39m(\u001b[38;5;28mself\u001b[39m, unwrap_fn: Callable, \u001b[38;5;241m*\u001b[39m\u001b[38;5;241m*\u001b[39mtask_lists: \u001b[38;5;28mlist\u001b[39m) \u001b[38;5;241m-\u001b[39m\u001b[38;5;241m>\u001b[39m NoReturn:\n\u001b[1;32m--> 112\u001b[0m     \u001b[38;5;28;01mraise\u001b[39;00m CogniteNotFoundError(\u001b[38;5;28mself\u001b[39m\u001b[38;5;241m.\u001b[39mmissing, unwrap_fn\u001b[38;5;241m=\u001b[39munwrap_fn, \u001b[38;5;241m*\u001b[39m\u001b[38;5;241m*\u001b[39mtask_lists) \u001b[38;5;28;01mfrom\u001b[39;00m \u001b[38;5;21;01mself\u001b[39;00m\u001b[38;5;21;01m.\u001b[39;00m\u001b[38;5;21;01mnot_found_error\u001b[39;00m\n",
      "\u001b[1;31mCogniteNotFoundError\u001b[0m: Not found: [{'externalId': 'CF_WastedEnergy'}]\nThe API Failed to process some items.\nSuccessful (2xx): []\nUnknown (5xx): []\nFailed (4xx): ['CF_WastedEnergy']"
     ]
    }
   ],
   "source": [
    "# client.time_series.delete(external_id=\"VAL_17-FI-9101-286:VALUE.COPY\")\n",
    "# client.time_series.delete(external_id=\"test_CF\")\n",
    "# client.time_series.delete(external_id=\"CF_WastedEnergy\")"
   ]
  },
  {
   "cell_type": "markdown",
   "metadata": {},
   "source": [
    "### --- Inputs ---"
   ]
  },
  {
   "cell_type": "markdown",
   "metadata": {},
   "source": [
    "#### A. Required parameters\n",
    "- `ts_input_names` (list): \n",
    "    - names of input time series (a list, even if only one input). Must be given in same order as calculations are performed in `transformations.py`\n",
    "- `ts_output_names` (list): \n",
    "    - names of output time series (also given as list). NB: if multiple time series outputs, order of ts_output_names must correspond to order in ts_input_names.\n",
    "- `function_name` (string): \n",
    "    - name of Cognite Function to deploy (i.e., folder with name `cf_*function_name*`)\n",
    "- `calculation_function` (string): \n",
    "    - name of main calculation function to run, should be defined in transformation.py (in the folder `cf_*function_name*`) as `main_*calculation_function*`\n",
    "- `schedule_name` (string):\n",
    "    - name of schedule to set up for the Cognite Function. NB: make sure name is unique to avoid overwriting already existing schedules for a particular Cognite Function! If setting up multiple schedules for the same Cognite Function, one for each input time series, a good advice to keep them organized is to use the name of the time series as the name of the schedules \n",
    "- `aggregate` (dictionary):\n",
    "    - information about any aggregations to perform in the calculation.\n",
    "    - if **not** performing any aggregates, leave the dictionary empty!\n",
    "    - if performing aggregates, two keys must be specified:\n",
    "    1. `period` (string):\n",
    "        - the time range defining the aggregated period\n",
    "        - valid values: `[\"second\", \"minute\", \"hour\", \"day\", \"month\", \"year\"]`\n",
    "    2. `type` (string):\n",
    "        - what type of aggregate to perform\n",
    "        - valid values: any aggregation supported by `pandas`, e.g., `\"mean\"`, `\"max\"`, ... \n",
    "- `sampling_rate` (int): \n",
    "    - sampling rate of input time series, given in seconds\n",
    "- `cron_interval_min` (string): \n",
    "    - minute-interval to run schedule at (NB: currently only supported for min-interval [1, 60)). The number should be provided as string.\n",
    "- `backfill_days` (int): \n",
    "    - number of days back in time to perform backfilling\n",
    "- `backfill_hour` (int):\n",
    "    - the hour of the day to perform backfilling\n",
    "- `backfill_min_start` (int):\n",
    "    - performs backfilling for any scheduled call that falls within hour=`backfill_hour` and minute=`[backfill_min_start, backfill_min_start+cron_interval_min]`\n",
    "- `testing` (bool):\n",
    "    - defaults to `False`. Set to `True` if running unit tests\n",
    "- `add_packages` (list): \n",
    "    - additional packages required to run the calculations in `transformations.py`"
   ]
  },
  {
   "cell_type": "code",
   "execution_count": 3,
   "metadata": {},
   "outputs": [],
   "source": [
    "# ts_input_names = [\"VAL_17-FI-9101-286:VALUE\", \"VAL_17-PI-95709-258:VALUE\", \"VAL_11-PT-92363B:X.Value\", \"VAL_11-XT-95067B:Z.X.Value\"] # Inputs to IdealPowerConsumption function\n",
    "# ts_input_names = [\"VAL_11-XT-95067B:Z.X.Value\", 87.8, \"CF_IdealPowerConsumption\"] # Inputs to WasterEnergy function\n",
    "ts_input_names = [\"VAL_11-LT-95107A:X.Value\"]#[\"VAL_11-PT-92363B:X.Value\"]\n",
    "# ts_output_names = [\"VAL_17-FI-9101-286:MULTIPLE.Test\", \"VAL_17-PI-95709-258:MULTIPLE.Test\", \"VAL_11-PT-92363B:MULTIPLE.Test\"]#, \"VAL_11-XT-95067B:MULTIPLE.Test\"]\n",
    "# ts_output_names = [\"CF_IdealPowerConsumption\"]\n",
    "# ts_output_names = [\"CF_WastedEnergy\"]\n",
    "ts_output_names = [\"VAL_11-LT-95107A:X.CDF.D.AVG.LeakValue\"]#[\"VAL_11-PT-92363B:X.HOURLY.AVG.DRAINAGE\"] #[\"TemplateVsCharts_Template\"]\n",
    "\n",
    "function_name = \"daily-avg-drainage\"\n",
    "calculation_function = \"daily_avg_drainage\"\n",
    "schedule_name = ts_input_names[0]\n",
    "\n",
    "aggregate = {}\n",
    "aggregate[\"period\"] = \"day\"\n",
    "aggregate[\"type\"] = \"mean\"\n",
    "\n",
    "sampling_rate = 60 #\n",
    "cron_interval_min = str(15) #\n",
    "assert int(cron_interval_min) < 60 and int(cron_interval_min) >= 1\n",
    "backfill_days = 3\n",
    "backfill_hour = 14 # 23\n",
    "backfill_min_start = 30\n",
    "\n",
    "add_packages = [] #[\"indsl\"]"
   ]
  },
  {
   "cell_type": "markdown",
   "metadata": {},
   "source": [
    "#### B. Optional parameters"
   ]
  },
  {
   "cell_type": "code",
   "execution_count": 4,
   "metadata": {},
   "outputs": [],
   "source": [
    "tank_volume = 1400\n",
    "derivative_value_excl = 0.002\n",
    "lowess_frac = 0.001\n",
    "lowess_delta = 0.01"
   ]
  },
  {
   "cell_type": "markdown",
   "metadata": {},
   "source": [
    "#### Insert parameters into data dictionary"
   ]
  },
  {
   "cell_type": "code",
   "execution_count": 5,
   "metadata": {},
   "outputs": [],
   "source": [
    "backfill_min_start = min(59, backfill_min_start)\n",
    "\n",
    "data_dict = {'ts_input_names':ts_input_names,\n",
    "            'ts_output_names':ts_output_names,\n",
    "            'function_name': f\"cf_{function_name}\",\n",
    "            'schedule_name': schedule_name,\n",
    "            'calculation_function': f\"main_{calculation_function}\",\n",
    "            'granularity': sampling_rate,\n",
    "            'dataset_id': 1832663593546318, # Center of Excellence - Analytics dataset\n",
    "            'cron_interval_min': cron_interval_min,\n",
    "            'aggregate': aggregate,\n",
    "            'testing': False,\n",
    "            'backfill_days': backfill_days,\n",
    "            'backfill_hour': backfill_hour, # 23: backfilling to be scheduled at last hour of day as default\n",
    "            'backfill_min_start': backfill_min_start, 'backfill_min_end': min(59.9, backfill_min_start + int(cron_interval_min)),\n",
    "            'calc_params': {\n",
    "                'derivative_value_excl':derivative_value_excl, 'tank_volume':tank_volume,\n",
    "                'lowess_frac': lowess_frac, 'lowess_delta': lowess_delta, 'time_unit': \"1m\"\n",
    "            }}"
   ]
  },
  {
   "cell_type": "markdown",
   "metadata": {},
   "source": [
    "### --- Instantiate Cognite Function ---\n",
    "\n",
    "Set up folder structure for the Cognite Function as required by the template."
   ]
  },
  {
   "cell_type": "code",
   "execution_count": 7,
   "metadata": {},
   "outputs": [
    {
     "name": "stdout",
     "output_type": "stream",
     "text": [
      "Writing __init__.py ...\n",
      "Writing handler.py ...\n",
      "Writing transformation.py ...\n",
      "Created requirements.txt in c:/Users/vetnev/OneDrive - Aker BP/Documents/First Task/opshub-task1/src/cf_wasted-energy\n",
      "Packages to add:  ['pandas', 'numpy', 'python-dotenv', 'pytest', 'ipykernel', 'cognite-sdk']\n",
      "\n",
      "Using version ^2.1.4 for pandas\n",
      "\n",
      "Updating dependencies\n",
      "Resolving dependencies...\n",
      "\n",
      "Package operations: 6 installs, 0 updates, 0 removals\n",
      "\n",
      "  â€¢ Installing six (1.16.0)\n",
      "  â€¢ Installing numpy (1.26.2)\n",
      "  â€¢ Installing python-dateutil (2.8.2)\n",
      "  â€¢ Installing pytz (2023.3.post1)\n",
      "  â€¢ Installing tzdata (2023.3)\n",
      "  â€¢ Installing pandas (2.1.4)\n",
      "\n",
      "Writing lock file\n",
      "\n",
      "Using version ^1.26.2 for numpy\n",
      "\n",
      "Updating dependencies\n",
      "Resolving dependencies...\n",
      "\n",
      "No dependencies to install or update\n",
      "\n",
      "Writing lock file\n",
      "\n",
      "Using version ^1.0.0 for python-dotenv\n",
      "\n",
      "Updating dependencies\n",
      "Resolving dependencies...\n",
      "\n",
      "Package operations: 1 install, 0 updates, 0 removals\n",
      "\n",
      "  â€¢ Installing python-dotenv (1.0.0)\n",
      "\n",
      "Writing lock file\n",
      "\n",
      "Using version ^7.4.3 for pytest\n",
      "\n",
      "Updating dependencies\n",
      "Resolving dependencies...\n",
      "\n",
      "Package operations: 5 installs, 0 updates, 0 removals\n",
      "\n",
      "  â€¢ Installing colorama (0.4.6)\n",
      "  â€¢ Installing iniconfig (2.0.0)\n",
      "  â€¢ Installing packaging (23.2)\n",
      "  â€¢ Installing pluggy (1.3.0)\n",
      "  â€¢ Installing pytest (7.4.3)\n",
      "\n",
      "Writing lock file\n",
      "\n",
      "Using version ^6.27.1 for ipykernel\n",
      "\n",
      "Updating dependencies\n",
      "Resolving dependencies...\n",
      "\n",
      "Package operations: 24 installs, 0 updates, 0 removals\n",
      "\n",
      "  â€¢ Installing asttokens (2.4.1)\n",
      "  â€¢ Installing executing (2.0.1)\n",
      "  â€¢ Installing parso (0.8.3)\n",
      "  â€¢ Installing platformdirs (4.1.0)\n",
      "  â€¢ Installing pure-eval (0.2.2)\n",
      "  â€¢ Installing pywin32 (306)\n",
      "  â€¢ Installing traitlets (5.14.0)\n",
      "  â€¢ Installing wcwidth (0.2.12)\n",
      "  â€¢ Installing decorator (5.1.1)\n",
      "  â€¢ Installing jedi (0.19.1)\n",
      "  â€¢ Installing jupyter-core (5.5.1)\n",
      "  â€¢ Installing matplotlib-inline (0.1.6)\n",
      "  â€¢ Installing prompt-toolkit (3.0.43)\n",
      "  â€¢ Installing pygments (2.17.2)\n",
      "  â€¢ Installing pyzmq (25.1.2)\n",
      "  â€¢ Installing stack-data (0.6.3)\n",
      "  â€¢ Installing tornado (6.4)\n",
      "  â€¢ Installing comm (0.2.0)\n",
      "  â€¢ Installing debugpy (1.8.0)\n",
      "  â€¢ Installing ipython (8.19.0)\n",
      "  â€¢ Installing jupyter-client (8.6.0)\n",
      "  â€¢ Installing nest-asyncio (1.5.8)\n",
      "  â€¢ Installing psutil (5.9.7)\n",
      "  â€¢ Installing ipykernel (6.27.1)\n",
      "\n",
      "Writing lock file\n",
      "\n",
      "Using version ^7.8.4 for cognite-sdk\n",
      "\n",
      "Updating dependencies\n",
      "Resolving dependencies...\n",
      "\n",
      "Package operations: 16 installs, 0 updates, 0 removals\n",
      "\n",
      "  â€¢ Installing pycparser (2.21)\n",
      "  â€¢ Installing cffi (1.16.0)\n",
      "  â€¢ Installing certifi (2023.11.17)\n",
      "  â€¢ Installing charset-normalizer (3.3.2)\n",
      "  â€¢ Installing cryptography (41.0.7)\n",
      "  â€¢ Installing idna (3.6)\n",
      "  â€¢ Installing urllib3 (2.1.0)\n",
      "  â€¢ Installing oauthlib (3.2.2)\n",
      "  â€¢ Installing pyjwt (2.8.0)\n",
      "  â€¢ Installing requests (2.31.0)\n",
      "  â€¢ Installing msal (1.26.0)\n",
      "  â€¢ Installing protobuf (4.25.1)\n",
      "  â€¢ Installing requests-oauthlib (1.3.1)\n",
      "  â€¢ Installing sortedcontainers (2.4.0)\n",
      "  â€¢ Installing typing-extensions (4.9.0)\n",
      "  â€¢ Installing cognite-sdk (7.8.4)\n",
      "\n",
      "Writing lock file\n",
      "\n",
      "Installing dependencies from lock file\n",
      "\n",
      "No dependencies to install or update\n",
      "\n",
      "Created requirements.txt in c:/Users/vetnev/OneDrive - Aker BP/Documents/First Task/opshub-task1/src/cf_wasted-energy\n"
     ]
    }
   ],
   "source": [
    "generate_cf(function_name, add_packages)"
   ]
  },
  {
   "cell_type": "markdown",
   "metadata": {},
   "source": [
    "### --- Define transformation function ---\n",
    "\n",
    "In this step, modify `transformation.py` to include your calculations."
   ]
  },
  {
   "cell_type": "markdown",
   "metadata": {},
   "source": [
    "### --- Deploy Cognite Function in one go ---"
   ]
  },
  {
   "cell_type": "markdown",
   "metadata": {},
   "source": [
    "#### Single call\n",
    "\n",
    "Initial transformation is data-intensive. A scheduled call will likely time out. Instead, do a separate call first. "
   ]
  },
  {
   "cell_type": "code",
   "execution_count": 6,
   "metadata": {},
   "outputs": [
    {
     "name": "stdout",
     "output_type": "stream",
     "text": [
      "Calling Cognite Function individually ...\n",
      "... Done\n"
     ]
    }
   ],
   "source": [
    "deploy_cognite_functions(data_dict, client,\n",
    "                         single_call=True, scheduled_call=False)"
   ]
  },
  {
   "cell_type": "markdown",
   "metadata": {},
   "source": [
    "#### Scheduled call\n",
    "\n",
    "For subsequent calls, transformations are only done on current date, not too data intensive. This can be handled by scheduled calls."
   ]
  },
  {
   "cell_type": "code",
   "execution_count": 7,
   "metadata": {},
   "outputs": [
    {
     "name": "stdout",
     "output_type": "stream",
     "text": [
      "Setting up Cognite Function schedule at time 2023-12-22 12:41:10.301468 ...\n",
      "... Done\n"
     ]
    }
   ],
   "source": [
    "deploy_cognite_functions(data_dict, client,\n",
    "                         single_call=False, scheduled_call=True)"
   ]
  },
  {
   "cell_type": "markdown",
   "metadata": {},
   "source": [
    "### --- Experimental ---"
   ]
  },
  {
   "cell_type": "code",
   "execution_count": 34,
   "metadata": {},
   "outputs": [
    {
     "data": {
      "text/plain": [
       "8236094801741723"
      ]
     },
     "execution_count": 34,
     "metadata": {},
     "output_type": "execute_result"
    }
   ],
   "source": [
    "import ast\n",
    "\n",
    "# data[col]: prints pd.Series object\n",
    "# data[[col]]: prints pd.DataFrame object\n",
    "\n",
    "myfunc = client.functions.retrieve(external_id=\"cf_wasted-energy\")\n",
    "my_schedule_id = client.functions.schedules.list(\n",
    "                name=\"cf_wasted-energy\").to_pandas().id[0]\n",
    "myfunc.list_calls(schedule_id=my_schedule_id)\n",
    "test = client.functions.calls.retrieve(call_id=3005253751851002, function_id=84587311037983).get_response()"
   ]
  },
  {
   "cell_type": "code",
   "execution_count": 57,
   "metadata": {},
   "outputs": [
    {
     "data": {
      "text/plain": [
       "{'test': {'0': 1, '1': 2, '2': 3, '3': 4, '4': 5}, 'gsgg': 'null'}"
      ]
     },
     "execution_count": 57,
     "metadata": {},
     "output_type": "execute_result"
    }
   ],
   "source": [
    "import pandas as pd\n",
    "import json\n",
    "test = pd.DataFrame([[1,2,3,4,5], [5,6,7,6,5]]).T\n",
    "ast.literal_eval('{\"test\": None}')\n",
    "orig = ast.literal_eval(test[0].to_json())\n",
    "ast.literal_eval(json.dumps({\"test\": orig, \"gsgg\": json.dumps(None)}))"
   ]
  },
  {
   "cell_type": "markdown",
   "metadata": {},
   "source": [
    "sid = client.functions.schedules.list(function_id=func_drainage.id).to_pandas().id[0]\n",
    "scid = func_drainage.list_calls(schedule_id=sid, limit=-1).to_pandas()\n",
    "resp = func_drainage.retrieve_call(id=scid).get_response()\n",
    "resp"
   ]
  },
  {
   "cell_type": "markdown",
   "metadata": {},
   "source": [
    "my_func = client.functions.retrieve(external_id=data_dict[\"function_name\"])\n",
    "my_schedule_id = client.functions.schedules.list(\n",
    "            name=data_dict[\"function_name\"]).to_pandas().id[0]\n",
    "all_calls = my_func.list_calls(\n",
    "            schedule_id=my_schedule_id, limit=-1).to_pandas()\n",
    "all_calls.tail()"
   ]
  },
  {
   "cell_type": "markdown",
   "metadata": {},
   "source": [
    "pd.date_range(start=datetime(2023,11,16,0,0), end=datetime(2023,11,16,3,51), freq=\"T\")\n",
    "extid = client.time_series.list(name=\"VAL_17-FI-9101-286:VALUE\")[0].external_id\n",
    "ts_orig_all = client.time_series.data.retrieve(external_id=extid,\n",
    "                                                   limit=20,\n",
    "                                                   ).to_pandas()\n",
    "ts_orig_all.head()"
   ]
  }
 ],
 "metadata": {
  "kernelspec": {
   "display_name": "firsttask",
   "language": "python",
   "name": "python3"
  },
  "language_info": {
   "codemirror_mode": {
    "name": "ipython",
    "version": 3
   },
   "file_extension": ".py",
   "mimetype": "text/x-python",
   "name": "python",
   "nbconvert_exporter": "python",
   "pygments_lexer": "ipython3",
   "version": "3.11.5"
  },
  "orig_nbformat": 4
 },
 "nbformat": 4,
 "nbformat_minor": 2
}

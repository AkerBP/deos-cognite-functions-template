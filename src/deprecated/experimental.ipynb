{
 "cells": [
  {
   "cell_type": "code",
   "execution_count": null,
   "metadata": {},
   "outputs": [],
   "source": [
    "import pandas as pd\n",
    "from cognite.client.data_classes import functions\n",
    "from cognite.client.data_classes.functions import FunctionSchedulesList\n",
    "from cognite.client.data_classes.functions import FunctionSchedule\n",
    "\n",
    "from initialize import initialize_client\n",
    "cdf_env = \"dev\"\n",
    "\n",
    "# Set limit on function calls - don't think it's really necessary ...\n",
    "func_limits = functions.FunctionsLimits(timeout_minutes=60, cpu_cores=0.25, memory_gb=1, runtimes=[\"py39\"], response_size_mb=2)\n",
    "client = initialize_client(cdf_env)"
   ]
  },
  {
   "cell_type": "code",
   "execution_count": 22,
   "metadata": {},
   "outputs": [
    {
     "data": {
      "text/plain": [
       "'{\"0\": 0.3745401188473625, \"1\": 0.9507143064099162, \"2\": 0.7319939418114051, \"3\": 0.5986584841970366, \"4\": 0.15601864044243652, \"5\": 0.15599452033620265, \"6\": 0.05808361216819946, \"7\": NaN, \"8\": 0.6011150117432088, \"9\": 0.7080725777960455, \"10\": NaN, \"11\": 0.9699098521619943, \"12\": 0.8324426408004217, \"13\": 0.21233911067827616, \"14\": 0.18182496720710062, \"15\": 0.18340450985343382, \"16\": 0.3042422429595377, \"17\": 0.5247564316322378, \"18\": 0.43194501864211576, \"19\": NaN, \"20\": 0.6118528947223795, \"21\": 0.13949386065204183, \"22\": 0.29214464853521815, \"23\": NaN, \"24\": 0.45606998421703593, \"25\": 0.7851759613930136, \"26\": 0.19967378215835974, \"27\": 0.5142344384136116, \"28\": 0.5924145688620425, \"29\": 0.046450412719997725, \"30\": 0.6075448519014384, \"31\": 0.17052412368729153, \"32\": 0.06505159298527952, \"33\": 0.9488855372533332, \"34\": NaN, \"35\": NaN, \"36\": 0.3046137691733707, \"37\": NaN, \"38\": 0.6842330265121569, \"39\": NaN, \"40\": 0.12203823484477883, \"41\": 0.4951769101112702, \"42\": 0.034388521115218396, \"43\": 0.9093204020787821, \"44\": 0.2587799816000169, \"45\": 0.662522284353982, \"46\": 0.31171107608941095, \"47\": NaN, \"48\": NaN, \"49\": 0.18485445552552704}'"
      ]
     },
     "execution_count": 22,
     "metadata": {},
     "output_type": "execute_result"
    }
   ],
   "source": [
    "from datetime import datetime, timedelta\n",
    "from dateutil.relativedelta import relativedelta\n",
    "import numpy as np\n",
    "import json\n",
    "mydate = pd.date_range(start=datetime(2023,5,7,10,15,10),\n",
    "                       end=datetime(2023,5,8,20,25,15),\n",
    "                       periods=50)\n",
    "\n",
    "df = pd.DataFrame(np.random.random(50), index=mydate, columns=[\"data\"])\n",
    "df.iloc[21:49] = np.nan\n",
    "df.resample(\"D\").agg(\"mean\")\n",
    "\n",
    "# Set a random seed for reproducibility\n",
    "np.random.seed(42)\n",
    "\n",
    "# Create a DataFrame with four columns of 50 random numbers each\n",
    "data = {\n",
    "    'Column1': np.random.rand(50),\n",
    "    'Column2': np.random.rand(50),\n",
    "    'Column3': np.random.rand(50),\n",
    "    'Column4': np.random.rand(50)\n",
    "}\n",
    "\n",
    "# Introduce some NaN values in one of the columns (e.g., Column2)\n",
    "data['Column2'][np.random.choice(50, 10)] = np.nan\n",
    "\n",
    "# Create the DataFrame\n",
    "df = pd.DataFrame(data)\n",
    "df[\"Column5\"] = df[\"Column1\"] + df[\"Column2\"] / df[\"Column3\"] - df[\"Column4\"]\n",
    "\n",
    "cond = df[\"Column1\"] > 0.5\n",
    "df2 = df[\"Column2\"][cond].to_frame().values\n",
    "df[\"Column1\"][df.isna().any(axis=1)] = np.nan\n",
    "json.dumps(df[\"Column1\"].to_dict())"
   ]
  },
  {
   "cell_type": "markdown",
   "metadata": {},
   "source": [
    "##### Need to store model parameters in file, and upload this to CDF to be able to extract trained parameters for next call to the Cognite Function (fine-tuning for next schedule and prediction for subsequent period)"
   ]
  },
  {
   "cell_type": "code",
   "execution_count": 150,
   "metadata": {},
   "outputs": [],
   "source": [
    "# client.files.upload(\"dummy_data.csv\", external_id=\"dummy_data\", name=\"dummy_data.csv\", data_set_id=1832663593546318, mime_type=\"text/csv\")\n",
    "# client.files.download(\"cf_dummy\", external_id=\"dummy_data\")\n",
    "# client.files.delete(external_id=\"dummy_data\")"
   ]
  },
  {
   "cell_type": "code",
   "execution_count": 34,
   "metadata": {},
   "outputs": [
    {
     "data": {
      "text/plain": [
       "8236094801741723"
      ]
     },
     "execution_count": 34,
     "metadata": {},
     "output_type": "execute_result"
    }
   ],
   "source": [
    "import ast\n",
    "\n",
    "# data[col]: prints pd.Series object\n",
    "# data[[col]]: prints pd.DataFrame object\n",
    "\n",
    "myfunc = client.functions.retrieve(external_id=\"cf_wasted-energy\")\n",
    "my_schedule_id = client.functions.schedules.list(\n",
    "                name=\"cf_wasted-energy\").to_pandas().id[0]\n",
    "myfunc.list_calls(schedule_id=my_schedule_id)\n",
    "test = client.functions.calls.retrieve(call_id=3005253751851002, function_id=84587311037983).get_response()"
   ]
  },
  {
   "cell_type": "code",
   "execution_count": 57,
   "metadata": {},
   "outputs": [
    {
     "data": {
      "text/plain": [
       "{'test': {'0': 1, '1': 2, '2': 3, '3': 4, '4': 5}, 'gsgg': 'null'}"
      ]
     },
     "execution_count": 57,
     "metadata": {},
     "output_type": "execute_result"
    }
   ],
   "source": [
    "import pandas as pd\n",
    "import json\n",
    "test = pd.DataFrame([[1,2,3,4,5], [5,6,7,6,5]]).T\n",
    "ast.literal_eval('{\"test\": None}')\n",
    "orig = ast.literal_eval(test[0].to_json())\n",
    "ast.literal_eval(json.dumps({\"test\": orig, \"gsgg\": json.dumps(None)}))"
   ]
  },
  {
   "cell_type": "code",
   "execution_count": 44,
   "metadata": {},
   "outputs": [
    {
     "data": {
      "text/html": [
       "<div>\n",
       "<style scoped>\n",
       "    .dataframe tbody tr th:only-of-type {\n",
       "        vertical-align: middle;\n",
       "    }\n",
       "\n",
       "    .dataframe tbody tr th {\n",
       "        vertical-align: top;\n",
       "    }\n",
       "\n",
       "    .dataframe thead th {\n",
       "        text-align: right;\n",
       "    }\n",
       "</style>\n",
       "<table border=\"1\" class=\"dataframe\">\n",
       "  <thead>\n",
       "    <tr style=\"text-align: right;\">\n",
       "      <th></th>\n",
       "      <th>data</th>\n",
       "    </tr>\n",
       "  </thead>\n",
       "  <tbody>\n",
       "    <tr>\n",
       "      <th>2023-04-05 00:00:00</th>\n",
       "      <td>1799.5</td>\n",
       "    </tr>\n",
       "    <tr>\n",
       "      <th>2023-04-05 01:00:00</th>\n",
       "      <td>5399.5</td>\n",
       "    </tr>\n",
       "    <tr>\n",
       "      <th>2023-04-05 02:00:00</th>\n",
       "      <td>8999.5</td>\n",
       "    </tr>\n",
       "    <tr>\n",
       "      <th>2023-04-05 03:00:00</th>\n",
       "      <td>12599.5</td>\n",
       "    </tr>\n",
       "    <tr>\n",
       "      <th>2023-04-05 04:00:00</th>\n",
       "      <td>16199.5</td>\n",
       "    </tr>\n",
       "    <tr>\n",
       "      <th>2023-04-05 05:00:00</th>\n",
       "      <td>19799.5</td>\n",
       "    </tr>\n",
       "    <tr>\n",
       "      <th>2023-04-05 06:00:00</th>\n",
       "      <td>23399.5</td>\n",
       "    </tr>\n",
       "    <tr>\n",
       "      <th>2023-04-05 07:00:00</th>\n",
       "      <td>26999.5</td>\n",
       "    </tr>\n",
       "    <tr>\n",
       "      <th>2023-04-05 08:00:00</th>\n",
       "      <td>30599.5</td>\n",
       "    </tr>\n",
       "    <tr>\n",
       "      <th>2023-04-05 09:00:00</th>\n",
       "      <td>34199.5</td>\n",
       "    </tr>\n",
       "    <tr>\n",
       "      <th>2023-04-05 10:00:00</th>\n",
       "      <td>37799.5</td>\n",
       "    </tr>\n",
       "    <tr>\n",
       "      <th>2023-04-05 11:00:00</th>\n",
       "      <td>41399.5</td>\n",
       "    </tr>\n",
       "    <tr>\n",
       "      <th>2023-04-05 12:00:00</th>\n",
       "      <td>44999.5</td>\n",
       "    </tr>\n",
       "    <tr>\n",
       "      <th>2023-04-05 13:00:00</th>\n",
       "      <td>48599.5</td>\n",
       "    </tr>\n",
       "    <tr>\n",
       "      <th>2023-04-05 14:00:00</th>\n",
       "      <td>52199.5</td>\n",
       "    </tr>\n",
       "    <tr>\n",
       "      <th>2023-04-05 15:00:00</th>\n",
       "      <td>55799.5</td>\n",
       "    </tr>\n",
       "    <tr>\n",
       "      <th>2023-04-05 16:00:00</th>\n",
       "      <td>59399.5</td>\n",
       "    </tr>\n",
       "    <tr>\n",
       "      <th>2023-04-05 17:00:00</th>\n",
       "      <td>62999.5</td>\n",
       "    </tr>\n",
       "    <tr>\n",
       "      <th>2023-04-05 18:00:00</th>\n",
       "      <td>66599.5</td>\n",
       "    </tr>\n",
       "    <tr>\n",
       "      <th>2023-04-05 19:00:00</th>\n",
       "      <td>70199.5</td>\n",
       "    </tr>\n",
       "    <tr>\n",
       "      <th>2023-04-05 20:00:00</th>\n",
       "      <td>73799.5</td>\n",
       "    </tr>\n",
       "    <tr>\n",
       "      <th>2023-04-05 21:00:00</th>\n",
       "      <td>77399.5</td>\n",
       "    </tr>\n",
       "    <tr>\n",
       "      <th>2023-04-05 22:00:00</th>\n",
       "      <td>80999.5</td>\n",
       "    </tr>\n",
       "    <tr>\n",
       "      <th>2023-04-05 23:00:00</th>\n",
       "      <td>84599.5</td>\n",
       "    </tr>\n",
       "    <tr>\n",
       "      <th>2023-04-06 00:00:00</th>\n",
       "      <td>88199.5</td>\n",
       "    </tr>\n",
       "    <tr>\n",
       "      <th>2023-04-06 01:00:00</th>\n",
       "      <td>91799.5</td>\n",
       "    </tr>\n",
       "    <tr>\n",
       "      <th>2023-04-06 02:00:00</th>\n",
       "      <td>93600.0</td>\n",
       "    </tr>\n",
       "  </tbody>\n",
       "</table>\n",
       "</div>"
      ],
      "text/plain": [
       "                        data\n",
       "2023-04-05 00:00:00   1799.5\n",
       "2023-04-05 01:00:00   5399.5\n",
       "2023-04-05 02:00:00   8999.5\n",
       "2023-04-05 03:00:00  12599.5\n",
       "2023-04-05 04:00:00  16199.5\n",
       "2023-04-05 05:00:00  19799.5\n",
       "2023-04-05 06:00:00  23399.5\n",
       "2023-04-05 07:00:00  26999.5\n",
       "2023-04-05 08:00:00  30599.5\n",
       "2023-04-05 09:00:00  34199.5\n",
       "2023-04-05 10:00:00  37799.5\n",
       "2023-04-05 11:00:00  41399.5\n",
       "2023-04-05 12:00:00  44999.5\n",
       "2023-04-05 13:00:00  48599.5\n",
       "2023-04-05 14:00:00  52199.5\n",
       "2023-04-05 15:00:00  55799.5\n",
       "2023-04-05 16:00:00  59399.5\n",
       "2023-04-05 17:00:00  62999.5\n",
       "2023-04-05 18:00:00  66599.5\n",
       "2023-04-05 19:00:00  70199.5\n",
       "2023-04-05 20:00:00  73799.5\n",
       "2023-04-05 21:00:00  77399.5\n",
       "2023-04-05 22:00:00  80999.5\n",
       "2023-04-05 23:00:00  84599.5\n",
       "2023-04-06 00:00:00  88199.5\n",
       "2023-04-06 01:00:00  91799.5\n",
       "2023-04-06 02:00:00  93600.0"
      ]
     },
     "execution_count": 44,
     "metadata": {},
     "output_type": "execute_result"
    }
   ],
   "source": [
    "from datetime import datetime\n",
    "import numpy as np\n",
    "dat = pd.date_range(start=datetime(2023,4,5,0),\n",
    "                end=datetime(2023,4,6,2),\n",
    "                freq=\"S\")\n",
    "\n",
    "df = pd.DataFrame(np.arange(len(dat)), index=dat, columns=[\"data\"])\n",
    "df.resample(\"H\").agg(\"mean\").iloc[0:20]\n",
    "# df"
   ]
  },
  {
   "cell_type": "markdown",
   "metadata": {},
   "source": [
    "sid = client.functions.schedules.list(function_id=func_drainage.id).to_pandas().id[0]\n",
    "scid = func_drainage.list_calls(schedule_id=sid, limit=-1).to_pandas()\n",
    "resp = func_drainage.retrieve_call(id=scid).get_response()\n",
    "resp"
   ]
  },
  {
   "cell_type": "markdown",
   "metadata": {},
   "source": [
    "my_func = client.functions.retrieve(external_id=data_dict[\"function_name\"])\n",
    "my_schedule_id = client.functions.schedules.list(\n",
    "            name=data_dict[\"function_name\"]).to_pandas().id[0]\n",
    "all_calls = my_func.list_calls(\n",
    "            schedule_id=my_schedule_id, limit=-1).to_pandas()\n",
    "all_calls.tail()"
   ]
  },
  {
   "cell_type": "markdown",
   "metadata": {},
   "source": [
    "pd.date_range(start=datetime(2023,11,16,0,0), end=datetime(2023,11,16,3,51), freq=\"T\")\n",
    "extid = client.time_series.list(name=\"VAL_17-FI-9101-286:VALUE\")[0].external_id\n",
    "ts_orig_all = client.time_series.data.retrieve(external_id=extid,\n",
    "                                                   limit=20,\n",
    "                                                   ).to_pandas()\n",
    "ts_orig_all.head()"
   ]
  }
 ],
 "metadata": {
  "kernelspec": {
   "display_name": "firsttask",
   "language": "python",
   "name": "python3"
  },
  "language_info": {
   "codemirror_mode": {
    "name": "ipython",
    "version": 3
   },
   "file_extension": ".py",
   "mimetype": "text/x-python",
   "name": "python",
   "nbconvert_exporter": "python",
   "pygments_lexer": "ipython3",
   "version": "3.11.5"
  },
  "orig_nbformat": 4
 },
 "nbformat": 4,
 "nbformat_minor": 2
}

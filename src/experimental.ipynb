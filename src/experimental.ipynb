{
 "cells": [
  {
   "cell_type": "code",
   "execution_count": 1,
   "metadata": {},
   "outputs": [],
   "source": [
    "import pandas as pd\n",
    "from cognite.client.data_classes import functions\n",
    "from cognite.client.data_classes.functions import FunctionSchedulesList\n",
    "from cognite.client.data_classes.functions import FunctionSchedule\n",
    "\n",
    "from initialize import initialize_client\n",
    "cdf_env = \"dev\"\n",
    "\n",
    "# Set limit on function calls - don't think it's really necessary ...\n",
    "func_limits = functions.FunctionsLimits(timeout_minutes=60, cpu_cores=0.25, memory_gb=1, runtimes=[\"py39\"], response_size_mb=2)\n",
    "client = initialize_client(cdf_env)"
   ]
  },
  {
   "cell_type": "markdown",
   "metadata": {},
   "source": [
    "##### Need to store model parameters in file, and upload this to CDF to be able to extract trained parameters for next call to the Cognite Function (fine-tuning for next schedule and prediction for subsequent period)"
   ]
  },
  {
   "cell_type": "code",
   "execution_count": 150,
   "metadata": {},
   "outputs": [],
   "source": [
    "# client.files.upload(\"dummy_data.csv\", external_id=\"dummy_data\", name=\"dummy_data.csv\", data_set_id=1832663593546318, mime_type=\"text/csv\")\n",
    "# client.files.download(\"cf_dummy\", external_id=\"dummy_data\")\n",
    "# client.files.delete(external_id=\"dummy_data\")"
   ]
  },
  {
   "cell_type": "code",
   "execution_count": 62,
   "metadata": {},
   "outputs": [
    {
     "data": {
      "text/plain": [
       "True"
      ]
     },
     "execution_count": 62,
     "metadata": {},
     "output_type": "execute_result"
    }
   ],
   "source": [
    "import ast\n",
    "from datetime import datetime, timedelta\n",
    "\n",
    "# data[col]: prints pd.Series object\n",
    "# data[[col]]: prints pd.DataFrame object\n",
    "\n",
    "myfunc = client.functions.retrieve(external_id=\"cf_power-Template\")\n",
    "my_schedule_id = client.functions.schedules.list(\n",
    "                name=\"VAL_11-LT-95107A:X.Value\").to_pandas().id[0]\n",
    "scheduled_calls = myfunc.list_calls(schedule_id=my_schedule_id, limit=-1).to_pandas()\n",
    "start_time = (datetime(2024, 1, 15, 15, 30) - datetime(1970, 1, 1, 0, 0)).total_seconds()*1000\n",
    "end_time = (datetime(2024, 1, 15, 15, 45) - datetime(1970, 1, 1, 0, 0)).total_seconds()*1000\n",
    "\n",
    "mask_start = scheduled_calls[\"scheduled_time\"] >= start_time\n",
    "mask_end = scheduled_calls[\"scheduled_time\"] < end_time\n",
    "myid = scheduled_calls[mask_start & mask_end][\"id\"].iloc[0]\n",
    "myfunc.retrieve_call(id=myid).get_response() is None\n",
    "# test = client.functions.calls.retrieve(call_id=3005253751851002, function_id=84587311037983).get_response()"
   ]
  },
  {
   "cell_type": "code",
   "execution_count": 37,
   "metadata": {},
   "outputs": [
    {
     "data": {
      "text/html": [
       "<div>\n",
       "<style scoped>\n",
       "    .dataframe tbody tr th:only-of-type {\n",
       "        vertical-align: middle;\n",
       "    }\n",
       "\n",
       "    .dataframe tbody tr th {\n",
       "        vertical-align: top;\n",
       "    }\n",
       "\n",
       "    .dataframe thead th {\n",
       "        text-align: right;\n",
       "    }\n",
       "</style>\n",
       "<table border=\"1\" class=\"dataframe\">\n",
       "  <thead>\n",
       "    <tr style=\"text-align: right;\">\n",
       "      <th></th>\n",
       "      <th>CF_IdealPowerConsumption|step_interpolation</th>\n",
       "    </tr>\n",
       "  </thead>\n",
       "  <tbody>\n",
       "    <tr>\n",
       "      <th>2020-02-16 23:00:00</th>\n",
       "      <td>0.0</td>\n",
       "    </tr>\n",
       "    <tr>\n",
       "      <th>2020-02-17 00:00:00</th>\n",
       "      <td>0.0</td>\n",
       "    </tr>\n",
       "    <tr>\n",
       "      <th>2020-02-17 01:00:00</th>\n",
       "      <td>0.0</td>\n",
       "    </tr>\n",
       "    <tr>\n",
       "      <th>2020-02-17 02:00:00</th>\n",
       "      <td>0.0</td>\n",
       "    </tr>\n",
       "    <tr>\n",
       "      <th>2020-02-17 03:00:00</th>\n",
       "      <td>0.0</td>\n",
       "    </tr>\n",
       "    <tr>\n",
       "      <th>...</th>\n",
       "      <td>...</td>\n",
       "    </tr>\n",
       "    <tr>\n",
       "      <th>2020-02-20 22:00:00</th>\n",
       "      <td>0.0</td>\n",
       "    </tr>\n",
       "    <tr>\n",
       "      <th>2020-02-20 23:00:00</th>\n",
       "      <td>0.0</td>\n",
       "    </tr>\n",
       "    <tr>\n",
       "      <th>2020-02-21 00:00:00</th>\n",
       "      <td>0.0</td>\n",
       "    </tr>\n",
       "    <tr>\n",
       "      <th>2020-02-21 01:00:00</th>\n",
       "      <td>0.0</td>\n",
       "    </tr>\n",
       "    <tr>\n",
       "      <th>2020-02-21 02:00:00</th>\n",
       "      <td>0.0</td>\n",
       "    </tr>\n",
       "  </tbody>\n",
       "</table>\n",
       "<p>100 rows × 1 columns</p>\n",
       "</div>"
      ],
      "text/plain": [
       "<cognite.client.data_classes.datapoints.Datapoints at 0x26f9f8b34d0>"
      ]
     },
     "execution_count": 37,
     "metadata": {},
     "output_type": "execute_result"
    }
   ],
   "source": [
    "client.time_series.data.retrieve(external_id=\"CF_IdealPowerConsumption\",\n",
    "                                 aggregates=\"stepInterpolation\",\n",
    "                                 granularity=\"1h\",\n",
    "                                 limit=100)"
   ]
  },
  {
   "cell_type": "code",
   "execution_count": 33,
   "metadata": {},
   "outputs": [
    {
     "data": {
      "text/plain": [
       "False"
      ]
     },
     "execution_count": 33,
     "metadata": {},
     "output_type": "execute_result"
    }
   ],
   "source": [
    "import pandas as pd\n",
    "import numpy as np\n",
    "import json\n",
    "\n",
    "# Create a DataFrame with three columns, each containing 5 random numeric values\n",
    "data = {\n",
    "    'Column1': np.random.rand(5),\n",
    "    'Column2': np.random.rand(5),\n",
    "    'Column3': np.random.rand(5)\n",
    "}\n",
    "\n",
    "df = pd.DataFrame(data)\n",
    "inp = {\"Column1\": [], \"Column2\": []}\n",
    "inp[\"Column1\"] = json.dumps(None)\n",
    "inp[\"Column1\"] = ast.literal_eval(df[\"Column1\"].to_json())\n",
    "inp[\"Column2\"] = ast.literal_eval(df[\"Column2\"].to_json())\n",
    "json.dumps(inp)\n",
    "\n",
    "test = client.time_series.list(\n",
    "                    name=\"power_Template\").to_pandas()"
   ]
  },
  {
   "cell_type": "code",
   "execution_count": 57,
   "metadata": {},
   "outputs": [
    {
     "data": {
      "text/plain": [
       "{'test': {'0': 1, '1': 2, '2': 3, '3': 4, '4': 5}, 'gsgg': 'null'}"
      ]
     },
     "execution_count": 57,
     "metadata": {},
     "output_type": "execute_result"
    }
   ],
   "source": [
    "import pandas as pd\n",
    "import json\n",
    "test = pd.DataFrame([[1,2,3,4,5], [5,6,7,6,5]]).T\n",
    "ast.literal_eval('{\"test\": None}')\n",
    "orig = ast.literal_eval(test[0].to_json())\n",
    "ast.literal_eval(json.dumps({\"test\": orig, \"gsgg\": json.dumps(None)}))"
   ]
  },
  {
   "cell_type": "code",
   "execution_count": 44,
   "metadata": {},
   "outputs": [
    {
     "data": {
      "text/html": [
       "<div>\n",
       "<style scoped>\n",
       "    .dataframe tbody tr th:only-of-type {\n",
       "        vertical-align: middle;\n",
       "    }\n",
       "\n",
       "    .dataframe tbody tr th {\n",
       "        vertical-align: top;\n",
       "    }\n",
       "\n",
       "    .dataframe thead th {\n",
       "        text-align: right;\n",
       "    }\n",
       "</style>\n",
       "<table border=\"1\" class=\"dataframe\">\n",
       "  <thead>\n",
       "    <tr style=\"text-align: right;\">\n",
       "      <th></th>\n",
       "      <th>data</th>\n",
       "    </tr>\n",
       "  </thead>\n",
       "  <tbody>\n",
       "    <tr>\n",
       "      <th>2023-04-05 00:00:00</th>\n",
       "      <td>1799.5</td>\n",
       "    </tr>\n",
       "    <tr>\n",
       "      <th>2023-04-05 01:00:00</th>\n",
       "      <td>5399.5</td>\n",
       "    </tr>\n",
       "    <tr>\n",
       "      <th>2023-04-05 02:00:00</th>\n",
       "      <td>8999.5</td>\n",
       "    </tr>\n",
       "    <tr>\n",
       "      <th>2023-04-05 03:00:00</th>\n",
       "      <td>12599.5</td>\n",
       "    </tr>\n",
       "    <tr>\n",
       "      <th>2023-04-05 04:00:00</th>\n",
       "      <td>16199.5</td>\n",
       "    </tr>\n",
       "    <tr>\n",
       "      <th>2023-04-05 05:00:00</th>\n",
       "      <td>19799.5</td>\n",
       "    </tr>\n",
       "    <tr>\n",
       "      <th>2023-04-05 06:00:00</th>\n",
       "      <td>23399.5</td>\n",
       "    </tr>\n",
       "    <tr>\n",
       "      <th>2023-04-05 07:00:00</th>\n",
       "      <td>26999.5</td>\n",
       "    </tr>\n",
       "    <tr>\n",
       "      <th>2023-04-05 08:00:00</th>\n",
       "      <td>30599.5</td>\n",
       "    </tr>\n",
       "    <tr>\n",
       "      <th>2023-04-05 09:00:00</th>\n",
       "      <td>34199.5</td>\n",
       "    </tr>\n",
       "    <tr>\n",
       "      <th>2023-04-05 10:00:00</th>\n",
       "      <td>37799.5</td>\n",
       "    </tr>\n",
       "    <tr>\n",
       "      <th>2023-04-05 11:00:00</th>\n",
       "      <td>41399.5</td>\n",
       "    </tr>\n",
       "    <tr>\n",
       "      <th>2023-04-05 12:00:00</th>\n",
       "      <td>44999.5</td>\n",
       "    </tr>\n",
       "    <tr>\n",
       "      <th>2023-04-05 13:00:00</th>\n",
       "      <td>48599.5</td>\n",
       "    </tr>\n",
       "    <tr>\n",
       "      <th>2023-04-05 14:00:00</th>\n",
       "      <td>52199.5</td>\n",
       "    </tr>\n",
       "    <tr>\n",
       "      <th>2023-04-05 15:00:00</th>\n",
       "      <td>55799.5</td>\n",
       "    </tr>\n",
       "    <tr>\n",
       "      <th>2023-04-05 16:00:00</th>\n",
       "      <td>59399.5</td>\n",
       "    </tr>\n",
       "    <tr>\n",
       "      <th>2023-04-05 17:00:00</th>\n",
       "      <td>62999.5</td>\n",
       "    </tr>\n",
       "    <tr>\n",
       "      <th>2023-04-05 18:00:00</th>\n",
       "      <td>66599.5</td>\n",
       "    </tr>\n",
       "    <tr>\n",
       "      <th>2023-04-05 19:00:00</th>\n",
       "      <td>70199.5</td>\n",
       "    </tr>\n",
       "    <tr>\n",
       "      <th>2023-04-05 20:00:00</th>\n",
       "      <td>73799.5</td>\n",
       "    </tr>\n",
       "    <tr>\n",
       "      <th>2023-04-05 21:00:00</th>\n",
       "      <td>77399.5</td>\n",
       "    </tr>\n",
       "    <tr>\n",
       "      <th>2023-04-05 22:00:00</th>\n",
       "      <td>80999.5</td>\n",
       "    </tr>\n",
       "    <tr>\n",
       "      <th>2023-04-05 23:00:00</th>\n",
       "      <td>84599.5</td>\n",
       "    </tr>\n",
       "    <tr>\n",
       "      <th>2023-04-06 00:00:00</th>\n",
       "      <td>88199.5</td>\n",
       "    </tr>\n",
       "    <tr>\n",
       "      <th>2023-04-06 01:00:00</th>\n",
       "      <td>91799.5</td>\n",
       "    </tr>\n",
       "    <tr>\n",
       "      <th>2023-04-06 02:00:00</th>\n",
       "      <td>93600.0</td>\n",
       "    </tr>\n",
       "  </tbody>\n",
       "</table>\n",
       "</div>"
      ],
      "text/plain": [
       "                        data\n",
       "2023-04-05 00:00:00   1799.5\n",
       "2023-04-05 01:00:00   5399.5\n",
       "2023-04-05 02:00:00   8999.5\n",
       "2023-04-05 03:00:00  12599.5\n",
       "2023-04-05 04:00:00  16199.5\n",
       "2023-04-05 05:00:00  19799.5\n",
       "2023-04-05 06:00:00  23399.5\n",
       "2023-04-05 07:00:00  26999.5\n",
       "2023-04-05 08:00:00  30599.5\n",
       "2023-04-05 09:00:00  34199.5\n",
       "2023-04-05 10:00:00  37799.5\n",
       "2023-04-05 11:00:00  41399.5\n",
       "2023-04-05 12:00:00  44999.5\n",
       "2023-04-05 13:00:00  48599.5\n",
       "2023-04-05 14:00:00  52199.5\n",
       "2023-04-05 15:00:00  55799.5\n",
       "2023-04-05 16:00:00  59399.5\n",
       "2023-04-05 17:00:00  62999.5\n",
       "2023-04-05 18:00:00  66599.5\n",
       "2023-04-05 19:00:00  70199.5\n",
       "2023-04-05 20:00:00  73799.5\n",
       "2023-04-05 21:00:00  77399.5\n",
       "2023-04-05 22:00:00  80999.5\n",
       "2023-04-05 23:00:00  84599.5\n",
       "2023-04-06 00:00:00  88199.5\n",
       "2023-04-06 01:00:00  91799.5\n",
       "2023-04-06 02:00:00  93600.0"
      ]
     },
     "execution_count": 44,
     "metadata": {},
     "output_type": "execute_result"
    }
   ],
   "source": [
    "from datetime import datetime\n",
    "import numpy as np\n",
    "dat = pd.date_range(start=datetime(2023,4,5,0),\n",
    "                end=datetime(2023,4,6,2),\n",
    "                freq=\"S\")\n",
    "\n",
    "df = pd.DataFrame(np.arange(len(dat)), index=dat, columns=[\"data\"])\n",
    "df.resample(\"H\").agg(\"mean\").iloc[0:20]\n",
    "# df"
   ]
  },
  {
   "cell_type": "markdown",
   "metadata": {},
   "source": [
    "sid = client.functions.schedules.list(function_id=func_drainage.id).to_pandas().id[0]\n",
    "scid = func_drainage.list_calls(schedule_id=sid, limit=-1).to_pandas()\n",
    "resp = func_drainage.retrieve_call(id=scid).get_response()\n",
    "resp"
   ]
  },
  {
   "cell_type": "markdown",
   "metadata": {},
   "source": [
    "my_func = client.functions.retrieve(external_id=data_dict[\"function_name\"])\n",
    "my_schedule_id = client.functions.schedules.list(\n",
    "            name=data_dict[\"function_name\"]).to_pandas().id[0]\n",
    "all_calls = my_func.list_calls(\n",
    "            schedule_id=my_schedule_id, limit=-1).to_pandas()\n",
    "all_calls.tail()"
   ]
  },
  {
   "cell_type": "markdown",
   "metadata": {},
   "source": [
    "pd.date_range(start=datetime(2023,11,16,0,0), end=datetime(2023,11,16,3,51), freq=\"T\")\n",
    "extid = client.time_series.list(name=\"VAL_17-FI-9101-286:VALUE\")[0].external_id\n",
    "ts_orig_all = client.time_series.data.retrieve(external_id=extid,\n",
    "                                                   limit=20,\n",
    "                                                   ).to_pandas()\n",
    "ts_orig_all.head()"
   ]
  }
 ],
 "metadata": {
  "kernelspec": {
   "display_name": "firsttask",
   "language": "python",
   "name": "python3"
  },
  "language_info": {
   "codemirror_mode": {
    "name": "ipython",
    "version": 3
   },
   "file_extension": ".py",
   "mimetype": "text/x-python",
   "name": "python",
   "nbconvert_exporter": "python",
   "pygments_lexer": "ipython3",
   "version": "3.11.5"
  },
  "orig_nbformat": 4
 },
 "nbformat": 4,
 "nbformat_minor": 2
}
